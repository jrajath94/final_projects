{
 "cells": [
  {
   "cell_type": "markdown",
   "metadata": {},
   "source": [
    "## IS 590 PR - Final Project \n",
    "### Analyzing Olympic Data Set from 1896 to 2016\n"
   ]
  },
  {
   "cell_type": "code",
   "execution_count": 1,
   "metadata": {},
   "outputs": [
    {
     "name": "stderr",
     "output_type": "stream",
     "text": [
      "/Users/rj/anaconda3/lib/python3.7/site-packages/statsmodels/compat/pandas.py:23: FutureWarning: The Panel class is removed from pandas. Accessing it from the top-level namespace will also be removed in the next version\n",
      "  data_klasses = (pandas.Series, pandas.DataFrame, pandas.Panel)\n"
     ]
    }
   ],
   "source": [
    "#!/usr/bin/env python\n",
    "# coding: utf-8\n",
    "\n",
    "import pandas as pd\n",
    "import numpy as np\n",
    "import seaborn as sns\n",
    "import matplotlib.pyplot as plt\n",
    "import statsmodels.api as sm\n",
    "from sklearn import metrics\n",
    "import pandas as pd\n",
    "import dask.dataframe as ddf\n",
    "import dask.multiprocessing\n",
    "import warnings\n",
    "from sklearn import linear_model\n",
    "from sklearn import preprocessing\n",
    "from sklearn.ensemble import RandomForestRegressor\n",
    "from pygeodesy.ellipsoidalVincenty import LatLon\n",
    "from pygeodesy.utily import m2km\n",
    "from numba import jit\n",
    "from Latest_Submission import *\n",
    "\n",
    "\n",
    "\n",
    "\n",
    "warnings.filterwarnings('ignore')\n",
    "\n"
   ]
  },
  {
   "cell_type": "markdown",
   "metadata": {},
   "source": [
    "### Reading the Datasets (By Multiprocessing via Dask Dataframes ) -"
   ]
  },
  {
   "cell_type": "code",
   "execution_count": 2,
   "metadata": {},
   "outputs": [],
   "source": [
    "world_gdp = read_data_df('Data/world_gdp.csv', skiprows = 3)\n",
    "noc_country = read_data_df('Data/noc_regions.csv')\n",
    "world_population = read_data_df('Data/world_pop.csv')\n",
    "olympics = read_data_df('Data/athlete_events.csv') \n",
    "olympics_host = read_data_df('Data/olm2.csv')\n",
    "world_hdi = read_data_df('Data/hdi.csv')\n",
    "\n",
    "\n"
   ]
  },
  {
   "cell_type": "markdown",
   "metadata": {},
   "source": [
    "### Shape of the Dataframes\n",
    "##### get_shape() function returns the rows and columns of Each Dataset "
   ]
  },
  {
   "cell_type": "code",
   "execution_count": 3,
   "metadata": {},
   "outputs": [
    {
     "name": "stdout",
     "output_type": "stream",
     "text": [
      "(271116, 15)\n",
      "(219, 61)\n",
      "(230, 3)\n",
      "(217, 61)\n",
      "(51, 7)\n",
      "(270, 10)\n"
     ]
    }
   ],
   "source": [
    "print(get_shape(olympics))\n",
    "print(get_shape(world_gdp))\n",
    "print(get_shape(noc_country))\n",
    "print(get_shape(world_population))\n",
    "print(get_shape(olympics_host))\n",
    "print(get_shape(world_hdi))"
   ]
  },
  {
   "cell_type": "markdown",
   "metadata": {},
   "source": [
    "### Assigning Names to the Dataframe"
   ]
  },
  {
   "cell_type": "code",
   "execution_count": 4,
   "metadata": {},
   "outputs": [],
   "source": [
    "olympics.name = \"Olympics\"\n",
    "world_gdp.name = \"World GDP\"\n",
    "noc_country.name = \"Country Codes\"\n",
    "world_population.name = \"World Population\"\n",
    "olympics_host.name = \"Olympics Host Countries\"\n",
    "world_hdi.name = \"World HDI data\""
   ]
  },
  {
   "cell_type": "markdown",
   "metadata": {},
   "source": [
    "### Description of the Dataframes"
   ]
  },
  {
   "cell_type": "code",
   "execution_count": 5,
   "metadata": {},
   "outputs": [
    {
     "name": "stdout",
     "output_type": "stream",
     "text": [
      "\n",
      "The Dataframe \"Olympics\" has 271116 rows and 15 columns\n",
      "Column Names - 'ID', 'Name', 'Sex', 'Age', 'Height', 'Weight', 'Team', 'NOC', 'Games', 'Year', 'Season', 'City', 'Sport', 'Event', 'Medal' \n",
      "\n",
      "\n",
      "The Dataframe \"World GDP\" has 219 rows and 61 columns\n",
      "Column Names - 'Country Name', 'Country Code', 'Indicator Name', 'Indicator Code', '1960', '1961', '1962', '1963', '1964', '1965', '1966', '1967', '1968', '1969', '1970', '1971', '1972', '1973', '1974', '1975', '1976', '1977', '1978', '1979', '1980', '1981', '1982', '1983', '1984', '1985', '1986', '1987', '1988', '1989', '1990', '1991', '1992', '1993', '1994', '1995', '1996', '1997', '1998', '1999', '2000', '2001', '2002', '2003', '2004', '2005', '2006', '2007', '2008', '2009', '2010', '2011', '2012', '2013', '2014', '2015', '2016' \n",
      "\n",
      "\n",
      "The Dataframe \"Country Codes\" has 230 rows and 3 columns\n",
      "Column Names - 'NOC', 'region', 'notes' \n",
      "\n",
      "\n",
      "The Dataframe \"World Population\" has 217 rows and 61 columns\n",
      "Column Names - 'Country', 'Country Code', 'Indicator Name', 'Indicator Code', '1960', '1961', '1962', '1963', '1964', '1965', '1966', '1967', '1968', '1969', '1970', '1971', '1972', '1973', '1974', '1975', '1976', '1977', '1978', '1979', '1980', '1981', '1982', '1983', '1984', '1985', '1986', '1987', '1988', '1989', '1990', '1991', '1992', '1993', '1994', '1995', '1996', '1997', '1998', '1999', '2000', '2001', '2002', '2003', '2004', '2005', '2006', '2007', '2008', '2009', '2010', '2011', '2012', '2013', '2014', '2015', '2016' \n",
      "\n",
      "\n",
      "The Dataframe \"Olympics Host Countries\" has 51 rows and 7 columns\n",
      "Column Names - 'Host City', 'Country', 'Summer (Olympiad)', 'Winter', 'Year', 'latitude', 'longitude' \n",
      "\n",
      "\n",
      "The Dataframe \"World HDI data\" has 270 rows and 10 columns\n",
      "Column Names - 'HDI', '1980', '1990', '2000', '2005', '2006', '2007', '2008', '2009', '2011' \n",
      "\n"
     ]
    }
   ],
   "source": [
    "get_info(olympics)\n",
    "get_info(world_gdp)\n",
    "get_info(noc_country)\n",
    "get_info(world_population)\n",
    "get_info(olympics_host)\n",
    "get_info(world_hdi)"
   ]
  },
  {
   "cell_type": "markdown",
   "metadata": {},
   "source": [
    "## Data Cleaning\n",
    "### Missing Values"
   ]
  },
  {
   "cell_type": "code",
   "execution_count": 6,
   "metadata": {},
   "outputs": [
    {
     "data": {
      "text/plain": [
       "ID             0\n",
       "Name           0\n",
       "Sex            0\n",
       "Age         9474\n",
       "Height     60171\n",
       "Weight     62875\n",
       "Team           0\n",
       "NOC            0\n",
       "Games          0\n",
       "Year           0\n",
       "Season         0\n",
       "City           0\n",
       "Sport          0\n",
       "Event          0\n",
       "Medal     231333\n",
       "dtype: int64"
      ]
     },
     "execution_count": 6,
     "metadata": {},
     "output_type": "execute_result"
    }
   ],
   "source": [
    "get_missing_values(olympics)"
   ]
  },
  {
   "cell_type": "code",
   "execution_count": 7,
   "metadata": {},
   "outputs": [],
   "source": [
    "olympics['Medal'].fillna('No_Medal', inplace=True)"
   ]
  },
  {
   "cell_type": "markdown",
   "metadata": {},
   "source": [
    "### Validating Datatypes"
   ]
  },
  {
   "cell_type": "code",
   "execution_count": 8,
   "metadata": {},
   "outputs": [
    {
     "name": "stdout",
     "output_type": "stream",
     "text": [
      " \n",
      " \n",
      "Olympics Dataframe \n",
      " \n",
      " ID          int64\n",
      "Name       object\n",
      "Sex        object\n",
      "Age       float64\n",
      "Height    float64\n",
      "Weight    float64\n",
      "Team       object\n",
      "NOC        object\n",
      "Games      object\n",
      "Year        int64\n",
      "Season     object\n",
      "City       object\n",
      "Sport      object\n",
      "Event      object\n",
      "Medal      object\n",
      "dtype: object \n",
      " \n",
      " \n",
      "World GDP Dataframe \n",
      " \n",
      " Country Name       object\n",
      "Country Code       object\n",
      "Indicator Name     object\n",
      "Indicator Code     object\n",
      "1960              float64\n",
      "                   ...   \n",
      "2012              float64\n",
      "2013              float64\n",
      "2014              float64\n",
      "2015              float64\n",
      "2016              float64\n",
      "Length: 61, dtype: object \n",
      " \n",
      " \n",
      "Country Codes Dataframe \n",
      " \n",
      " NOC       object\n",
      "region    object\n",
      "notes     object\n",
      "dtype: object \n",
      " \n",
      " \n",
      "Olympics Host Countries Dataframe \n",
      " \n",
      " Host City             object\n",
      "Country               object\n",
      "Summer (Olympiad)     object\n",
      "Winter                object\n",
      "Year                   int64\n",
      "latitude             float64\n",
      "longitude            float64\n",
      "dtype: object \n",
      " \n",
      " \n",
      "World HDI data Dataframe \n",
      " \n",
      " HDI      object\n",
      "1980    float64\n",
      "1990    float64\n",
      "2000    float64\n",
      "2005    float64\n",
      "2006    float64\n",
      "2007    float64\n",
      "2008    float64\n",
      "2009    float64\n",
      "2011    float64\n",
      "dtype: object \n",
      " World Population Dataframe \n",
      " \n",
      " Country            object\n",
      "Country Code       object\n",
      "Indicator Name     object\n",
      "Indicator Code     object\n",
      "1960              float64\n",
      "                   ...   \n",
      "2012              float64\n",
      "2013              float64\n",
      "2014              float64\n",
      "2015              float64\n",
      "2016                int64\n",
      "Length: 61, dtype: object \n"
     ]
    }
   ],
   "source": [
    "print(\" \\n \\n{} Dataframe \\n \\n {} \".format(olympics.name,olympics.dtypes))\n",
    "print(\" \\n \\n{} Dataframe \\n \\n {} \".format(world_gdp.name,world_gdp.dtypes))\n",
    "print(\" \\n \\n{} Dataframe \\n \\n {} \".format(noc_country.name,noc_country.dtypes))\n",
    "print(\" \\n \\n{} Dataframe \\n \\n {} \".format(olympics_host.name,olympics_host.dtypes))\n",
    "print(\" \\n \\n{} Dataframe \\n \\n {} \".format(world_hdi.name,world_hdi.dtypes))\n",
    "print(\" {} Dataframe \\n \\n {} \".format(world_population.name,world_population.dtypes))\n",
    "world_population[['1998','2000','2016']] = world_population[['1998','2000','2016']].astype(float)"
   ]
  },
  {
   "cell_type": "markdown",
   "metadata": {},
   "source": [
    "### One Hot Encoding of Medals Column\n",
    "\n",
    "#### Reference -  https://www.datacamp.com/community/tutorials/categorical-data\n"
   ]
  },
  {
   "cell_type": "code",
   "execution_count": 9,
   "metadata": {},
   "outputs": [],
   "source": [
    "olympics[\"Bronze_Medal\"] = np.where(olympics[\"Medal\"].str.contains(\"Bronze\"), 1, 0)\n",
    "olympics[\"Silver_Medal\"] = np.where(olympics[\"Medal\"].str.contains(\"Silver\"), 1, 0)\n",
    "olympics[\"Gold_Medal\"]   = np.where(olympics[\"Medal\"].str.contains(\"Gold\"), 1, 0)\n",
    "olympics[\"No_Medal\"]     = np.where(olympics[\"Medal\"].str.contains(\"No_Medal\"), 1, 0)"
   ]
  },
  {
   "cell_type": "code",
   "execution_count": 10,
   "metadata": {},
   "outputs": [],
   "source": [
    "world = world_gdp.drop(['Indicator Name', 'Indicator Code'], axis = 1)\n"
   ]
  },
  {
   "cell_type": "markdown",
   "metadata": {},
   "source": [
    "### Merging Olympic Athletes Data with NOC"
   ]
  },
  {
   "cell_type": "code",
   "execution_count": 11,
   "metadata": {},
   "outputs": [],
   "source": [
    "olympics_NOC = olympics.merge(noc_country, left_on='NOC' , right_on='NOC' , how ='left' )"
   ]
  },
  {
   "cell_type": "markdown",
   "metadata": {},
   "source": [
    "### Cleaning Olympics Host data + Extracting years from it"
   ]
  },
  {
   "cell_type": "code",
   "execution_count": 12,
   "metadata": {},
   "outputs": [],
   "source": [
    "olympics_host['Year'].fillna(-999, inplace=True)\n",
    "olympics_host['Winter'].fillna(\"No_Olympics\", inplace=True)\n",
    "olympics_host['Summer (Olympiad)'].fillna(\"No_Olympics\", inplace=True)\n",
    "olympic_years = list(olympics_host[\"Year\"].unique())\n",
    "olympic_years = [str(int(element)) for element in olympic_years]\n",
    "\n"
   ]
  },
  {
   "cell_type": "markdown",
   "metadata": {},
   "source": [
    "#### Merging World Population Data with Olympic Athletes (after filtering out the years where olympics wasn't held)"
   ]
  },
  {
   "cell_type": "code",
   "execution_count": 13,
   "metadata": {},
   "outputs": [],
   "source": [
    "@jit\n",
    "def filter_years(dataframe, years, olympic_years):\n",
    "    for item in world_population_columns:\n",
    "        if item not in olympic_years:\n",
    "            dataframe.drop(item, axis=1, inplace=True)"
   ]
  },
  {
   "cell_type": "code",
   "execution_count": 14,
   "metadata": {},
   "outputs": [],
   "source": [
    "world_population_columns = list(world_population.columns.values)[4:]\n",
    "\n",
    "filter_years(world_population,world_population_columns ,olympic_years )\n",
    "olympics_NOC_population = olympics_NOC.merge(world_population, left_on='NOC' , right_on='Country Code' , how ='left' ).reset_index(drop=True)\n"
   ]
  },
  {
   "cell_type": "markdown",
   "metadata": {},
   "source": [
    "#### Merging World GDP Data with Olympic Athletes (after filtering out the years where olympics wasn't held)\n"
   ]
  },
  {
   "cell_type": "code",
   "execution_count": 15,
   "metadata": {},
   "outputs": [],
   "source": [
    "\n",
    "world_gdp_columns = list(world_gdp.columns.values)[4:]\n",
    "\n",
    "filter_years(world_gdp,world_gdp_columns,olympic_years )\n",
    "\n",
    "olympics_NOC_gdp = olympics_NOC.merge(world_population, left_on='NOC' , right_on='Country Code' , how ='left' ).reset_index(drop=True)\n"
   ]
  },
  {
   "cell_type": "markdown",
   "metadata": {},
   "source": [
    "### American Athletes vs World  - Medals Tally in Olympics . "
   ]
  },
  {
   "cell_type": "code",
   "execution_count": 16,
   "metadata": {},
   "outputs": [
    {
     "data": {
      "text/html": [
       "<div>\n",
       "<style scoped>\n",
       "    .dataframe tbody tr th:only-of-type {\n",
       "        vertical-align: middle;\n",
       "    }\n",
       "\n",
       "    .dataframe tbody tr th {\n",
       "        vertical-align: top;\n",
       "    }\n",
       "\n",
       "    .dataframe thead th {\n",
       "        text-align: right;\n",
       "    }\n",
       "</style>\n",
       "<table border=\"1\" class=\"dataframe\">\n",
       "  <thead>\n",
       "    <tr style=\"text-align: right;\">\n",
       "      <th></th>\n",
       "      <th>ID</th>\n",
       "      <th>Name</th>\n",
       "      <th>Sex</th>\n",
       "      <th>Age</th>\n",
       "      <th>Height</th>\n",
       "      <th>Weight</th>\n",
       "      <th>Team</th>\n",
       "      <th>NOC</th>\n",
       "      <th>Games</th>\n",
       "      <th>Year</th>\n",
       "      <th>...</th>\n",
       "      <th>City</th>\n",
       "      <th>Sport</th>\n",
       "      <th>Event</th>\n",
       "      <th>Medal</th>\n",
       "      <th>Bronze_Medal</th>\n",
       "      <th>Silver_Medal</th>\n",
       "      <th>Gold_Medal</th>\n",
       "      <th>No_Medal</th>\n",
       "      <th>region</th>\n",
       "      <th>notes</th>\n",
       "    </tr>\n",
       "  </thead>\n",
       "  <tbody>\n",
       "    <tr>\n",
       "      <th>283</th>\n",
       "      <td>150</td>\n",
       "      <td>Margaret Ives Abbott (-Dunne)</td>\n",
       "      <td>F</td>\n",
       "      <td>23.0</td>\n",
       "      <td>NaN</td>\n",
       "      <td>NaN</td>\n",
       "      <td>United States</td>\n",
       "      <td>USA</td>\n",
       "      <td>1900 Summer</td>\n",
       "      <td>1900</td>\n",
       "      <td>...</td>\n",
       "      <td>Paris</td>\n",
       "      <td>Golf</td>\n",
       "      <td>Golf Women's Individual</td>\n",
       "      <td>Gold</td>\n",
       "      <td>0</td>\n",
       "      <td>0</td>\n",
       "      <td>1</td>\n",
       "      <td>0</td>\n",
       "      <td>USA</td>\n",
       "      <td>NaN</td>\n",
       "    </tr>\n",
       "    <tr>\n",
       "      <th>609</th>\n",
       "      <td>351</td>\n",
       "      <td>Julius Shareef Abdur-Rahim</td>\n",
       "      <td>M</td>\n",
       "      <td>23.0</td>\n",
       "      <td>202.0</td>\n",
       "      <td>104.0</td>\n",
       "      <td>United States</td>\n",
       "      <td>USA</td>\n",
       "      <td>2000 Summer</td>\n",
       "      <td>2000</td>\n",
       "      <td>...</td>\n",
       "      <td>Sydney</td>\n",
       "      <td>Basketball</td>\n",
       "      <td>Basketball Men's Basketball</td>\n",
       "      <td>Gold</td>\n",
       "      <td>0</td>\n",
       "      <td>0</td>\n",
       "      <td>1</td>\n",
       "      <td>0</td>\n",
       "      <td>USA</td>\n",
       "      <td>NaN</td>\n",
       "    </tr>\n",
       "    <tr>\n",
       "      <th>710</th>\n",
       "      <td>404</td>\n",
       "      <td>Louis Grenville \"Lou\" Abell</td>\n",
       "      <td>M</td>\n",
       "      <td>15.0</td>\n",
       "      <td>NaN</td>\n",
       "      <td>NaN</td>\n",
       "      <td>Vesper Boat Club</td>\n",
       "      <td>USA</td>\n",
       "      <td>1900 Summer</td>\n",
       "      <td>1900</td>\n",
       "      <td>...</td>\n",
       "      <td>Paris</td>\n",
       "      <td>Rowing</td>\n",
       "      <td>Rowing Men's Coxed Eights</td>\n",
       "      <td>Gold</td>\n",
       "      <td>0</td>\n",
       "      <td>0</td>\n",
       "      <td>1</td>\n",
       "      <td>0</td>\n",
       "      <td>USA</td>\n",
       "      <td>NaN</td>\n",
       "    </tr>\n",
       "    <tr>\n",
       "      <th>711</th>\n",
       "      <td>404</td>\n",
       "      <td>Louis Grenville \"Lou\" Abell</td>\n",
       "      <td>M</td>\n",
       "      <td>19.0</td>\n",
       "      <td>NaN</td>\n",
       "      <td>NaN</td>\n",
       "      <td>Vesper Boat Club</td>\n",
       "      <td>USA</td>\n",
       "      <td>1904 Summer</td>\n",
       "      <td>1904</td>\n",
       "      <td>...</td>\n",
       "      <td>St. Louis</td>\n",
       "      <td>Rowing</td>\n",
       "      <td>Rowing Men's Coxed Eights</td>\n",
       "      <td>Gold</td>\n",
       "      <td>0</td>\n",
       "      <td>0</td>\n",
       "      <td>1</td>\n",
       "      <td>0</td>\n",
       "      <td>USA</td>\n",
       "      <td>NaN</td>\n",
       "    </tr>\n",
       "    <tr>\n",
       "      <th>739</th>\n",
       "      <td>423</td>\n",
       "      <td>Michael Brent Abernathy</td>\n",
       "      <td>M</td>\n",
       "      <td>22.0</td>\n",
       "      <td>182.0</td>\n",
       "      <td>84.0</td>\n",
       "      <td>United States</td>\n",
       "      <td>USA</td>\n",
       "      <td>2000 Summer</td>\n",
       "      <td>2000</td>\n",
       "      <td>...</td>\n",
       "      <td>Sydney</td>\n",
       "      <td>Baseball</td>\n",
       "      <td>Baseball Men's Baseball</td>\n",
       "      <td>Gold</td>\n",
       "      <td>0</td>\n",
       "      <td>0</td>\n",
       "      <td>1</td>\n",
       "      <td>0</td>\n",
       "      <td>USA</td>\n",
       "      <td>NaN</td>\n",
       "    </tr>\n",
       "    <tr>\n",
       "      <th>...</th>\n",
       "      <td>...</td>\n",
       "      <td>...</td>\n",
       "      <td>...</td>\n",
       "      <td>...</td>\n",
       "      <td>...</td>\n",
       "      <td>...</td>\n",
       "      <td>...</td>\n",
       "      <td>...</td>\n",
       "      <td>...</td>\n",
       "      <td>...</td>\n",
       "      <td>...</td>\n",
       "      <td>...</td>\n",
       "      <td>...</td>\n",
       "      <td>...</td>\n",
       "      <td>...</td>\n",
       "      <td>...</td>\n",
       "      <td>...</td>\n",
       "      <td>...</td>\n",
       "      <td>...</td>\n",
       "      <td>...</td>\n",
       "      <td>...</td>\n",
       "    </tr>\n",
       "    <tr>\n",
       "      <th>266319</th>\n",
       "      <td>133237</td>\n",
       "      <td>Timothy R. \"Tim\" Young</td>\n",
       "      <td>M</td>\n",
       "      <td>26.0</td>\n",
       "      <td>172.0</td>\n",
       "      <td>77.0</td>\n",
       "      <td>United States</td>\n",
       "      <td>USA</td>\n",
       "      <td>2000 Summer</td>\n",
       "      <td>2000</td>\n",
       "      <td>...</td>\n",
       "      <td>Sydney</td>\n",
       "      <td>Baseball</td>\n",
       "      <td>Baseball Men's Baseball</td>\n",
       "      <td>Gold</td>\n",
       "      <td>0</td>\n",
       "      <td>0</td>\n",
       "      <td>1</td>\n",
       "      <td>0</td>\n",
       "      <td>USA</td>\n",
       "      <td>NaN</td>\n",
       "    </tr>\n",
       "    <tr>\n",
       "      <th>267204</th>\n",
       "      <td>133685</td>\n",
       "      <td>Mariel Leigh Zagunis</td>\n",
       "      <td>F</td>\n",
       "      <td>19.0</td>\n",
       "      <td>173.0</td>\n",
       "      <td>72.0</td>\n",
       "      <td>United States</td>\n",
       "      <td>USA</td>\n",
       "      <td>2004 Summer</td>\n",
       "      <td>2004</td>\n",
       "      <td>...</td>\n",
       "      <td>Athina</td>\n",
       "      <td>Fencing</td>\n",
       "      <td>Fencing Women's Sabre, Individual</td>\n",
       "      <td>Gold</td>\n",
       "      <td>0</td>\n",
       "      <td>0</td>\n",
       "      <td>1</td>\n",
       "      <td>0</td>\n",
       "      <td>USA</td>\n",
       "      <td>NaN</td>\n",
       "    </tr>\n",
       "    <tr>\n",
       "      <th>267205</th>\n",
       "      <td>133685</td>\n",
       "      <td>Mariel Leigh Zagunis</td>\n",
       "      <td>F</td>\n",
       "      <td>23.0</td>\n",
       "      <td>173.0</td>\n",
       "      <td>72.0</td>\n",
       "      <td>United States</td>\n",
       "      <td>USA</td>\n",
       "      <td>2008 Summer</td>\n",
       "      <td>2008</td>\n",
       "      <td>...</td>\n",
       "      <td>Beijing</td>\n",
       "      <td>Fencing</td>\n",
       "      <td>Fencing Women's Sabre, Individual</td>\n",
       "      <td>Gold</td>\n",
       "      <td>0</td>\n",
       "      <td>0</td>\n",
       "      <td>1</td>\n",
       "      <td>0</td>\n",
       "      <td>USA</td>\n",
       "      <td>NaN</td>\n",
       "    </tr>\n",
       "    <tr>\n",
       "      <th>269922</th>\n",
       "      <td>135045</td>\n",
       "      <td>Rbert Zimonyi</td>\n",
       "      <td>M</td>\n",
       "      <td>46.0</td>\n",
       "      <td>170.0</td>\n",
       "      <td>52.0</td>\n",
       "      <td>United States</td>\n",
       "      <td>USA</td>\n",
       "      <td>1964 Summer</td>\n",
       "      <td>1964</td>\n",
       "      <td>...</td>\n",
       "      <td>Tokyo</td>\n",
       "      <td>Rowing</td>\n",
       "      <td>Rowing Men's Coxed Eights</td>\n",
       "      <td>Gold</td>\n",
       "      <td>0</td>\n",
       "      <td>0</td>\n",
       "      <td>1</td>\n",
       "      <td>0</td>\n",
       "      <td>USA</td>\n",
       "      <td>NaN</td>\n",
       "    </tr>\n",
       "    <tr>\n",
       "      <th>270394</th>\n",
       "      <td>135256</td>\n",
       "      <td>Zachary \"Zac\" Zorn</td>\n",
       "      <td>M</td>\n",
       "      <td>21.0</td>\n",
       "      <td>193.0</td>\n",
       "      <td>86.0</td>\n",
       "      <td>United States</td>\n",
       "      <td>USA</td>\n",
       "      <td>1968 Summer</td>\n",
       "      <td>1968</td>\n",
       "      <td>...</td>\n",
       "      <td>Mexico City</td>\n",
       "      <td>Swimming</td>\n",
       "      <td>Swimming Men's 4 x 100 metres Freestyle Relay</td>\n",
       "      <td>Gold</td>\n",
       "      <td>0</td>\n",
       "      <td>0</td>\n",
       "      <td>1</td>\n",
       "      <td>0</td>\n",
       "      <td>USA</td>\n",
       "      <td>NaN</td>\n",
       "    </tr>\n",
       "  </tbody>\n",
       "</table>\n",
       "<p>2472 rows × 21 columns</p>\n",
       "</div>"
      ],
      "text/plain": [
       "            ID                           Name Sex   Age  Height  Weight  \\\n",
       "283        150  Margaret Ives Abbott (-Dunne)   F  23.0     NaN     NaN   \n",
       "609        351     Julius Shareef Abdur-Rahim   M  23.0   202.0   104.0   \n",
       "710        404    Louis Grenville \"Lou\" Abell   M  15.0     NaN     NaN   \n",
       "711        404    Louis Grenville \"Lou\" Abell   M  19.0     NaN     NaN   \n",
       "739        423        Michael Brent Abernathy   M  22.0   182.0    84.0   \n",
       "...        ...                            ...  ..   ...     ...     ...   \n",
       "266319  133237         Timothy R. \"Tim\" Young   M  26.0   172.0    77.0   \n",
       "267204  133685           Mariel Leigh Zagunis   F  19.0   173.0    72.0   \n",
       "267205  133685           Mariel Leigh Zagunis   F  23.0   173.0    72.0   \n",
       "269922  135045                  Rbert Zimonyi   M  46.0   170.0    52.0   \n",
       "270394  135256             Zachary \"Zac\" Zorn   M  21.0   193.0    86.0   \n",
       "\n",
       "                    Team  NOC        Games  Year  ...         City  \\\n",
       "283        United States  USA  1900 Summer  1900  ...        Paris   \n",
       "609        United States  USA  2000 Summer  2000  ...       Sydney   \n",
       "710     Vesper Boat Club  USA  1900 Summer  1900  ...        Paris   \n",
       "711     Vesper Boat Club  USA  1904 Summer  1904  ...    St. Louis   \n",
       "739        United States  USA  2000 Summer  2000  ...       Sydney   \n",
       "...                  ...  ...          ...   ...  ...          ...   \n",
       "266319     United States  USA  2000 Summer  2000  ...       Sydney   \n",
       "267204     United States  USA  2004 Summer  2004  ...       Athina   \n",
       "267205     United States  USA  2008 Summer  2008  ...      Beijing   \n",
       "269922     United States  USA  1964 Summer  1964  ...        Tokyo   \n",
       "270394     United States  USA  1968 Summer  1968  ...  Mexico City   \n",
       "\n",
       "             Sport                                          Event Medal  \\\n",
       "283           Golf                        Golf Women's Individual  Gold   \n",
       "609     Basketball                    Basketball Men's Basketball  Gold   \n",
       "710         Rowing                      Rowing Men's Coxed Eights  Gold   \n",
       "711         Rowing                      Rowing Men's Coxed Eights  Gold   \n",
       "739       Baseball                        Baseball Men's Baseball  Gold   \n",
       "...            ...                                            ...   ...   \n",
       "266319    Baseball                        Baseball Men's Baseball  Gold   \n",
       "267204     Fencing              Fencing Women's Sabre, Individual  Gold   \n",
       "267205     Fencing              Fencing Women's Sabre, Individual  Gold   \n",
       "269922      Rowing                      Rowing Men's Coxed Eights  Gold   \n",
       "270394    Swimming  Swimming Men's 4 x 100 metres Freestyle Relay  Gold   \n",
       "\n",
       "       Bronze_Medal  Silver_Medal  Gold_Medal  No_Medal  region notes  \n",
       "283               0             0           1         0     USA   NaN  \n",
       "609               0             0           1         0     USA   NaN  \n",
       "710               0             0           1         0     USA   NaN  \n",
       "711               0             0           1         0     USA   NaN  \n",
       "739               0             0           1         0     USA   NaN  \n",
       "...             ...           ...         ...       ...     ...   ...  \n",
       "266319            0             0           1         0     USA   NaN  \n",
       "267204            0             0           1         0     USA   NaN  \n",
       "267205            0             0           1         0     USA   NaN  \n",
       "269922            0             0           1         0     USA   NaN  \n",
       "270394            0             0           1         0     USA   NaN  \n",
       "\n",
       "[2472 rows x 21 columns]"
      ]
     },
     "execution_count": 16,
     "metadata": {},
     "output_type": "execute_result"
    }
   ],
   "source": [
    "\n",
    "american_olympians = olympics_NOC.loc[(olympics_NOC.NOC=='USA') & (olympics_NOC.Medal=='Gold') & (olympics_NOC.Season=='Summer')]\n",
    "american_olympians"
   ]
  },
  {
   "cell_type": "markdown",
   "metadata": {},
   "source": [
    "#### We can see that the Gold medals won by America is 1127 (according to Wikipedia) , but the number os rows returned is 2472 . This is due to medallists in team events being counted as individual medallists. Eg : - Soccer has 11 players , It will be counted as 11 medals instead of 1 ."
   ]
  },
  {
   "cell_type": "markdown",
   "metadata": {},
   "source": [
    "#### Let's Find out Team Events"
   ]
  },
  {
   "cell_type": "code",
   "execution_count": 17,
   "metadata": {},
   "outputs": [
    {
     "data": {
      "text/plain": [
       "array([\"Tug-Of-War Men's Tug-Of-War\", \"Gymnastics Men's Team All-Around\",\n",
       "       \"Gymnastics Men's Pommelled Horse\", \"Handball Women's Handball\",\n",
       "       \"Speed Skating Men's 1,500 metres\", 'Sailing Mixed 8 metres',\n",
       "       \"Cycling Men's Road Race, Team\",\n",
       "       \"Canoeing Men's Kayak Fours, 1,000 metres\",\n",
       "       \"Handball Men's Handball\", \"Football Men's Football\",\n",
       "       \"Water Polo Men's Water Polo\",\n",
       "       'Sailing Mixed Two Person Heavyweight Dinghy',\n",
       "       \"Rowing Men's Quadruple Sculls\", \"Rowing Men's Double Sculls\",\n",
       "       \"Rowing Men's Coxed Pairs\", \"Hockey Men's Hockey\",\n",
       "       \"Basketball Men's Basketball\", \"Nordic Combined Men's Team\",\n",
       "       \"Ice Hockey Men's Ice Hockey\", \"Rowing Men's Coxed Eights\",\n",
       "       \"Baseball Men's Baseball\", \"Athletics Men's 4 x 400 metres Relay\",\n",
       "       \"Gymnastics Men's Team All-Around, Free System\",\n",
       "       \"Gymnastics Men's Team All-Around, Swedish System\",\n",
       "       \"Bobsleigh Men's Two\", \"Curling Men's Curling\",\n",
       "       \"Cycling Men's Team Pursuit, 4,000 metres\",\n",
       "       \"Shooting Men's Military Rifle, 200, 400, 500 and 600 metres, Team\",\n",
       "       \"Volleyball Women's Volleyball\",\n",
       "       \"Canoeing Men's Canadian Doubles, Slalom\",\n",
       "       \"Equestrianism Men's Three-Day Event, Team\",\n",
       "       \"Swimming Men's 4 x 100 metres Freestyle Relay\",\n",
       "       \"Swimming Men's 4 x 100 metres Medley Relay\",\n",
       "       \"Gymnastics Women's Team All-Around\", \"Hockey Women's Hockey\",\n",
       "       \"Ice Hockey Women's Ice Hockey\", \"Fencing Women's Foil, Team\",\n",
       "       \"Fencing Men's epee, Team\",\n",
       "       \"Rowing Men's 17-Man Naval Rowing Boats\",\n",
       "       'Badminton Mixed Doubles',\n",
       "       \"Swimming Women's 4 x 100 metres Freestyle Relay\",\n",
       "       \"Swimming Women's 4 x 100 metres Medley Relay\",\n",
       "       \"Rowing Women's Coxed Eights\", \"Cycling Men's Madison\",\n",
       "       \"Rugby Men's Rugby\", \"Canoeing Men's Kayak Doubles, 10,000 metres\",\n",
       "       'Sailing Mixed 6 metres', \"Football Women's Football\",\n",
       "       \"Biathlon Women's 4 x 6 kilometres Relay\",\n",
       "       \"Fencing Men's Foil, Team\",\n",
       "       \"Athletics Women's 4 x 100 metres Relay\",\n",
       "       \"Athletics Men's 4 x 100 metres Relay\",\n",
       "       \"Cross Country Skiing Men's 4 x 10 kilometres Relay\",\n",
       "       \"Rowing Men's Coxed Fours\", 'Sailing Mixed Two Person Keelboat',\n",
       "       \"Sailing Women's Two Person Dinghy\",\n",
       "       \"Rowing Women's Double Sculls\",\n",
       "       \"Biathlon Men's 4 x 7.5 kilometres Relay\",\n",
       "       \"Beach Volleyball Men's Beach Volleyball\",\n",
       "       \"Rhythmic Gymnastics Women's Group\",\n",
       "       \"Archery Men's Target Archery, 33 metres, Team\",\n",
       "       \"Archery Men's Target Archery, 50 metres, Team\",\n",
       "       'Sailing Mixed Three Person Keelboat', 'Sailing Mixed 12 metres',\n",
       "       \"Rowing Men's Coxed Fours, Inriggers\",\n",
       "       'Equestrianism Mixed Three-Day Event, Team',\n",
       "       \"Water Polo Women's Water Polo\",\n",
       "       \"Cross Country Skiing Men's 10/10 kilometres Pursuit\",\n",
       "       \"Bobsleigh Men's Four\", \"Equestrianism Men's Jumping, Team\",\n",
       "       \"Fencing Men's Sabre, Team\", \"Volleyball Men's Volleyball\",\n",
       "       \"Softball Women's Softball\",\n",
       "       \"Shooting Men's Small-Bore Rifle, 50 and 100 yards, Team\",\n",
       "       \"Cross Country Skiing Women's 4 x 5 kilometres Relay\",\n",
       "       \"Cycling Men's 100 kilometres Team Time Trial\",\n",
       "       \"Short Track Speed Skating Women's 3,000 metres Relay\",\n",
       "       \"Short Track Speed Skating Men's 5,000 metres Relay\",\n",
       "       \"Rowing Men's Lightweight Coxless Fours\",\n",
       "       \"Swimming Women's 4 x 200 metres Freestyle Relay\",\n",
       "       \"Athletics Women's 4 x 400 metres Relay\",\n",
       "       \"Canoeing Women's Kayak Doubles, 500 metres\",\n",
       "       \"Athletics Men's Cross-Country, Team\",\n",
       "       \"Cross Country Skiing Women's Team Sprint\", \"Polo Men's Polo\",\n",
       "       \"Rowing Men's Coxless Pairs\",\n",
       "       \"Speed Skating Men's Team Pursuit (8 laps)\",\n",
       "       'Figure Skating Mixed Ice Dancing',\n",
       "       \"Speed Skating Women's Team Pursuit (6 laps)\",\n",
       "       \"Biathlon Women's 4 x 7.5 kilometres Relay\",\n",
       "       \"Rowing Women's Coxed Fours\",\n",
       "       \"Swimming Men's 4 x 200 metres Freestyle Relay\",\n",
       "       \"Rowing Women's Coxless Pairs\", \"Cycling Women's Team Pursuit\",\n",
       "       'Sailing Mixed 10 metres', \"Shooting Men's Trap, Team\",\n",
       "       \"Luge Mixed (Men)'s Doubles\", 'Luge Mixed Team Relay',\n",
       "       \"Rowing Men's Coxed Fours, Outriggers\",\n",
       "       \"Rowing Men's Coxless Fours\", \"Gymnastics Men's Horizontal Bar\",\n",
       "       \"Shooting Men's Running Target, Single Shot, Team\",\n",
       "       'Equestrianism Mixed Jumping, Team', \"Racquets Men's Doubles\",\n",
       "       \"Military Ski Patrol Men's Military Ski Patrol\",\n",
       "       \"Cycling Men's Tandem Sprint, 2,000 metres\",\n",
       "       \"Cross Country Skiing Women's 3 x 5 kilometres Relay\",\n",
       "       'Sailing Mixed 0.5-1 Ton', \"Basketball Women's Basketball\",\n",
       "       'Croquet Mixed Doubles',\n",
       "       \"Shooting Men's Free Pistol, 50 yards, Team\",\n",
       "       \"Sailing Women's Three Person Keelboat\", 'Tennis Mixed Doubles',\n",
       "       \"Synchronized Swimming Women's Team\", \"Fencing Women's epee, Team\",\n",
       "       \"Rowing Men's Lightweight Double Sculls\",\n",
       "       \"Synchronized Swimming Women's Solo\",\n",
       "       \"Rowing Women's Coxed Quadruple Sculls\",\n",
       "       'Figure Skating Mixed Pairs',\n",
       "       'Art Competitions Mixed Architecture, Architectural Designs',\n",
       "       \"Bobsleigh Women's Two\", \"Modern Pentathlon Men's Team\",\n",
       "       'Equestrianism Mixed Dressage, Team', 'Sailing Mixed Multihull',\n",
       "       \"Gymnastics Men's Horse Vault\", \"Rowing Women's Quadruple Sculls\",\n",
       "       \"Rowing Women's Coxless Fours\",\n",
       "       \"Tennis Men's Doubles, Covered Courts\",\n",
       "       \"Canoeing Men's Kayak Doubles, 1,000 metres\",\n",
       "       \"Cricket Men's Cricket\", \"Rugby Sevens Women's Rugby Sevens\",\n",
       "       \"Tennis Men's Doubles\", \"Gymnastics Men's Rings\",\n",
       "       \"Sailing Men's Two Person Dinghy\",\n",
       "       \"Rowing Men's 6-Man Naval Rowing Boats\",\n",
       "       \"Shooting Men's Military Rifle, 200/500/600/800/900/1,000 Yards, Team\",\n",
       "       'Sailing Mixed 30 metres', \"Athletics Men's 5,000 metres, Team\",\n",
       "       'Biathlon Mixed 2 x 6 kilometres and 2 x 7.5 kilometres Relay',\n",
       "       \"Gymnastics Women's Team Portable Apparatus\",\n",
       "       \"Athletics Men's 3,000 metres, Team\", \"Curling Women's Curling\",\n",
       "       \"Athletics Men's Pentathlon\", 'Sailing Mixed 10-20 Ton',\n",
       "       \"Diving Men's Synchronized Springboard\", 'Sailing Mixed 7 metres',\n",
       "       \"Shooting Men's Free Rifle, Three Positions, 300 metres, Team\",\n",
       "       \"Canoeing Men's Folding Kayak Doubles, 10 kilometres\",\n",
       "       \"Lacrosse Men's Lacrosse\", 'Sailing Mixed 2-3 Ton',\n",
       "       \"Canoeing Men's Kayak Doubles, 500 metres\",\n",
       "       'Figure Skating Mixed Team',\n",
       "       \"Gymnastics Men's Parallel Bars, Teams\",\n",
       "       \"Gymnastics Men's Horizontal Bar, Teams\",\n",
       "       'Sailing Mixed Two Person Dinghy',\n",
       "       \"Canoeing Men's Canadian Doubles, 1,000 metres\",\n",
       "       \"Shooting Men's Small-Bore Rifle, Disappearing Target, 25 metres, Team\",\n",
       "       \"Canoeing Men's Canadian Doubles, 10,000 metres\",\n",
       "       \"Equestrianism Men's Vaulting, Team\",\n",
       "       \"Shooting Men's Free Pistol, 50 metres, Team\",\n",
       "       \"Biathlon Women's 3 x 7.5 kilometres Relay\",\n",
       "       'Alpinism Mixed Alpinism',\n",
       "       \"Rowing Men's Coxed Pairs (1 kilometres)\",\n",
       "       \"Rowing Men's Coxed Pairs (1 mile)\",\n",
       "       \"Synchronized Swimming Women's Duet\",\n",
       "       \"Equestrianism Men's Dressage, Team\", \"Sailing Men's Skiff\",\n",
       "       \"Badminton Men's Doubles\", \"Diving Men's Synchronized Platform\",\n",
       "       \"Shooting Men's Dueling Pistol, 30 metres, Team\",\n",
       "       'Sailing Mixed 6.5 metres',\n",
       "       \"Athletics Men's 1,600 metres Medley Relay\",\n",
       "       \"Gymnastics Women's Floor Exercise\", 'Sailing Mixed 5.5 metres',\n",
       "       \"Archery Women's Team\", \"Table Tennis Men's Doubles\",\n",
       "       \"Diving Women's Synchronized Platform\",\n",
       "       \"Archery Men's Pole Archery, Small Birds, Team\",\n",
       "       \"Archery Men's Pole Archery, Large Birds, Team\",\n",
       "       \"Athletics Men's 3 mile, Team\", \"Athletics Men's Pole Vault\",\n",
       "       \"Beach Volleyball Women's Beach Volleyball\",\n",
       "       \"Rowing Women's Lightweight Double Sculls\",\n",
       "       \"Shooting Men's Free Rifle, 400, 600 and 800 metres, Team\",\n",
       "       \"Canoeing Men's Kayak Doubles, 200 metres\",\n",
       "       \"Canoeing Women's Kayak Fours, 500 metres\", \"Golf Men's Team\",\n",
       "       'Sailing Mixed Open', \"Rugby Sevens Men's Rugby Sevens\",\n",
       "       \"Swimming Men's 4 x 50 Yard Freestyle Relay\",\n",
       "       \"Basque Pelota Men's Two-Man Teams With Cesta\",\n",
       "       \"Archery Men's Target Archery, 28 metres, Team\",\n",
       "       'Sailing Mixed 1-2 Ton', \"Table Tennis Women's Doubles\",\n",
       "       \"Table Tennis Women's Team\",\n",
       "       'Tennis Mixed Doubles, Covered Courts',\n",
       "       \"Canoeing Men's Canadian Doubles, 500 metres\",\n",
       "       \"Badminton Women's Doubles\", \"Ski Jumping Men's Large Hill, Team\",\n",
       "       \"Fencing Women's Sabre, Team\",\n",
       "       \"Swimming Men's 50 metres Freestyle\",\n",
       "       \"Speed Skating Men's 500 metres\",\n",
       "       \"Weightlifting Men's Lightweight\",\n",
       "       \"Shooting Men's Military Rifle, Prone, 600 metres, Team\",\n",
       "       \"Shooting Men's Small Bore-Rifle, Standing, 50 metres, Team\",\n",
       "       \"Tennis Women's Doubles\", 'Sailing Mixed Skiff',\n",
       "       \"Sailing Men's Two Person Keelboat\", \"Cycling Men's Team Sprint\",\n",
       "       'Motorboating Mixed B-Class (Under 60 Feet)',\n",
       "       'Motorboating Mixed C-Class',\n",
       "       \"Shooting Men's Military Rifle, Prone, 300 metres, Team\",\n",
       "       \"Bobsleigh Men's Four/Five\", \"Archery Men's Team\",\n",
       "       \"Shooting Men's Military Pistol, Team\",\n",
       "       \"Cross Country Skiing Men's Team Sprint\",\n",
       "       'Equestrianism Mixed High Jump', 'Sailing Mixed 0-0.5 Ton',\n",
       "       'Sailing Mixed 3-10 Ton', \"Alpine Skiing Women's Downhill\",\n",
       "       \"Cycling Women's Team Sprint\", \"Sailing Women's Skiff\",\n",
       "       \"Diving Women's Synchronized Springboard\",\n",
       "       \"Swimming Men's 200 metres Team Swimming\",\n",
       "       \"Swimming Men's 4 x 250 metres Freestyle Relay\",\n",
       "       'Sailing Mixed 12 foot', \"Swimming Women's 100 metres Freestyle\",\n",
       "       'Sailing Mixed 40 metres', \"Archery Women's Team Round\",\n",
       "       \"Shooting Men's Military Rifle, 300 metres and 600 metres, Prone, Team\",\n",
       "       \"Shooting Men's Running Target, Double Shot, Team\",\n",
       "       \"Cycling Men's Team Pursuit, 1,980 yards\",\n",
       "       \"Canoeing Men's Kayak Relay 4 x 500 metres\",\n",
       "       \"Shooting Men's Military Rifle, Standing, 300 metres, Team\",\n",
       "       'Art Competitions Mixed Architecture',\n",
       "       \"Shooting Men's Small-Bore Rifle, Prone, 50 metres, Team\",\n",
       "       \"Table Tennis Men's Team\", \"Gymnastics Women's Uneven Bars\",\n",
       "       'Art Competitions Mixed Architecture, Designs For Town Planning',\n",
       "       \"Archery Men's Team Round\", \"Gymnastics Women's Horse Vault\",\n",
       "       \"Athletics Men's 4 mile, Team\", \"Gymnastics Women's Balance Beam\",\n",
       "       \"Athletics Men's Decathlon\"], dtype=object)"
      ]
     },
     "execution_count": 17,
     "metadata": {},
     "output_type": "execute_result"
    }
   ],
   "source": [
    "gold_medals = olympics_NOC[olympics_NOC.Gold_Medal==1]\n",
    "gold = gold_medals.groupby(['Event','Year'])['ID'].count()\n",
    "gold\n",
    "gold_medals['Event_Frequency'] = gold_medals.groupby(['Event','Year'])['ID'].transform('count')\n",
    "gold = gold_medals[gold_medals.Event_Frequency > 1]\n",
    "team_events = gold[\"Event\"].unique()\n",
    "team_events"
   ]
  },
  {
   "cell_type": "markdown",
   "metadata": {},
   "source": [
    "### Medals Tally of USA -"
   ]
  },
  {
   "cell_type": "code",
   "execution_count": 18,
   "metadata": {},
   "outputs": [],
   "source": [
    "tally = olympics_NOC[(olympics_NOC.No_Medal != 1) & (olympics_NOC.Season == \"Summer\")]\n",
    "medal_tally = tally[[ 'NOC','Year', 'Sport', 'Event', 'Medal','Bronze_Medal','Silver_Medal', 'Gold_Medal']]\n",
    "\n",
    "medal_tally_1 = medal_tally.drop_duplicates(['Medal','Event','Year'])"
   ]
  },
  {
   "cell_type": "markdown",
   "metadata": {},
   "source": [
    "### Gold Medallists of USA - \n"
   ]
  },
  {
   "cell_type": "code",
   "execution_count": 19,
   "metadata": {},
   "outputs": [
    {
     "data": {
      "text/html": [
       "<div>\n",
       "<style scoped>\n",
       "    .dataframe tbody tr th:only-of-type {\n",
       "        vertical-align: middle;\n",
       "    }\n",
       "\n",
       "    .dataframe tbody tr th {\n",
       "        vertical-align: top;\n",
       "    }\n",
       "\n",
       "    .dataframe thead th {\n",
       "        text-align: right;\n",
       "    }\n",
       "</style>\n",
       "<table border=\"1\" class=\"dataframe\">\n",
       "  <thead>\n",
       "    <tr style=\"text-align: right;\">\n",
       "      <th></th>\n",
       "      <th>NOC</th>\n",
       "      <th>Year</th>\n",
       "      <th>Sport</th>\n",
       "      <th>Event</th>\n",
       "      <th>Medal</th>\n",
       "      <th>Bronze_Medal</th>\n",
       "      <th>Silver_Medal</th>\n",
       "      <th>Gold_Medal</th>\n",
       "    </tr>\n",
       "  </thead>\n",
       "  <tbody>\n",
       "    <tr>\n",
       "      <th>283</th>\n",
       "      <td>USA</td>\n",
       "      <td>1900</td>\n",
       "      <td>Golf</td>\n",
       "      <td>Golf Women's Individual</td>\n",
       "      <td>Gold</td>\n",
       "      <td>0</td>\n",
       "      <td>0</td>\n",
       "      <td>1</td>\n",
       "    </tr>\n",
       "    <tr>\n",
       "      <th>609</th>\n",
       "      <td>USA</td>\n",
       "      <td>2000</td>\n",
       "      <td>Basketball</td>\n",
       "      <td>Basketball Men's Basketball</td>\n",
       "      <td>Gold</td>\n",
       "      <td>0</td>\n",
       "      <td>0</td>\n",
       "      <td>1</td>\n",
       "    </tr>\n",
       "    <tr>\n",
       "      <th>710</th>\n",
       "      <td>USA</td>\n",
       "      <td>1900</td>\n",
       "      <td>Rowing</td>\n",
       "      <td>Rowing Men's Coxed Eights</td>\n",
       "      <td>Gold</td>\n",
       "      <td>0</td>\n",
       "      <td>0</td>\n",
       "      <td>1</td>\n",
       "    </tr>\n",
       "    <tr>\n",
       "      <th>711</th>\n",
       "      <td>USA</td>\n",
       "      <td>1904</td>\n",
       "      <td>Rowing</td>\n",
       "      <td>Rowing Men's Coxed Eights</td>\n",
       "      <td>Gold</td>\n",
       "      <td>0</td>\n",
       "      <td>0</td>\n",
       "      <td>1</td>\n",
       "    </tr>\n",
       "    <tr>\n",
       "      <th>739</th>\n",
       "      <td>USA</td>\n",
       "      <td>2000</td>\n",
       "      <td>Baseball</td>\n",
       "      <td>Baseball Men's Baseball</td>\n",
       "      <td>Gold</td>\n",
       "      <td>0</td>\n",
       "      <td>0</td>\n",
       "      <td>1</td>\n",
       "    </tr>\n",
       "    <tr>\n",
       "      <th>...</th>\n",
       "      <td>...</td>\n",
       "      <td>...</td>\n",
       "      <td>...</td>\n",
       "      <td>...</td>\n",
       "      <td>...</td>\n",
       "      <td>...</td>\n",
       "      <td>...</td>\n",
       "      <td>...</td>\n",
       "    </tr>\n",
       "    <tr>\n",
       "      <th>266222</th>\n",
       "      <td>USA</td>\n",
       "      <td>1952</td>\n",
       "      <td>Athletics</td>\n",
       "      <td>Athletics Men's Javelin Throw</td>\n",
       "      <td>Gold</td>\n",
       "      <td>0</td>\n",
       "      <td>0</td>\n",
       "      <td>1</td>\n",
       "    </tr>\n",
       "    <tr>\n",
       "      <th>266270</th>\n",
       "      <td>USA</td>\n",
       "      <td>1992</td>\n",
       "      <td>Athletics</td>\n",
       "      <td>Athletics Men's 400 metres Hurdles</td>\n",
       "      <td>Gold</td>\n",
       "      <td>0</td>\n",
       "      <td>0</td>\n",
       "      <td>1</td>\n",
       "    </tr>\n",
       "    <tr>\n",
       "      <th>266293</th>\n",
       "      <td>USA</td>\n",
       "      <td>1932</td>\n",
       "      <td>Art Competitions</td>\n",
       "      <td>Art Competitions Mixed Sculpturing, Statues</td>\n",
       "      <td>Gold</td>\n",
       "      <td>0</td>\n",
       "      <td>0</td>\n",
       "      <td>1</td>\n",
       "    </tr>\n",
       "    <tr>\n",
       "      <th>267204</th>\n",
       "      <td>USA</td>\n",
       "      <td>2004</td>\n",
       "      <td>Fencing</td>\n",
       "      <td>Fencing Women's Sabre, Individual</td>\n",
       "      <td>Gold</td>\n",
       "      <td>0</td>\n",
       "      <td>0</td>\n",
       "      <td>1</td>\n",
       "    </tr>\n",
       "    <tr>\n",
       "      <th>267205</th>\n",
       "      <td>USA</td>\n",
       "      <td>2008</td>\n",
       "      <td>Fencing</td>\n",
       "      <td>Fencing Women's Sabre, Individual</td>\n",
       "      <td>Gold</td>\n",
       "      <td>0</td>\n",
       "      <td>0</td>\n",
       "      <td>1</td>\n",
       "    </tr>\n",
       "  </tbody>\n",
       "</table>\n",
       "<p>1028 rows × 8 columns</p>\n",
       "</div>"
      ],
      "text/plain": [
       "        NOC  Year             Sport  \\\n",
       "283     USA  1900              Golf   \n",
       "609     USA  2000        Basketball   \n",
       "710     USA  1900            Rowing   \n",
       "711     USA  1904            Rowing   \n",
       "739     USA  2000          Baseball   \n",
       "...     ...   ...               ...   \n",
       "266222  USA  1952         Athletics   \n",
       "266270  USA  1992         Athletics   \n",
       "266293  USA  1932  Art Competitions   \n",
       "267204  USA  2004           Fencing   \n",
       "267205  USA  2008           Fencing   \n",
       "\n",
       "                                              Event Medal  Bronze_Medal  \\\n",
       "283                         Golf Women's Individual  Gold             0   \n",
       "609                     Basketball Men's Basketball  Gold             0   \n",
       "710                       Rowing Men's Coxed Eights  Gold             0   \n",
       "711                       Rowing Men's Coxed Eights  Gold             0   \n",
       "739                         Baseball Men's Baseball  Gold             0   \n",
       "...                                             ...   ...           ...   \n",
       "266222                Athletics Men's Javelin Throw  Gold             0   \n",
       "266270           Athletics Men's 400 metres Hurdles  Gold             0   \n",
       "266293  Art Competitions Mixed Sculpturing, Statues  Gold             0   \n",
       "267204            Fencing Women's Sabre, Individual  Gold             0   \n",
       "267205            Fencing Women's Sabre, Individual  Gold             0   \n",
       "\n",
       "        Silver_Medal  Gold_Medal  \n",
       "283                0           1  \n",
       "609                0           1  \n",
       "710                0           1  \n",
       "711                0           1  \n",
       "739                0           1  \n",
       "...              ...         ...  \n",
       "266222             0           1  \n",
       "266270             0           1  \n",
       "266293             0           1  \n",
       "267204             0           1  \n",
       "267205             0           1  \n",
       "\n",
       "[1028 rows x 8 columns]"
      ]
     },
     "execution_count": 19,
     "metadata": {},
     "output_type": "execute_result"
    }
   ],
   "source": [
    "medal_tally_1[(medal_tally_1['Medal']=='Gold') & (medal_tally_1['NOC']=='USA')]"
   ]
  },
  {
   "cell_type": "markdown",
   "metadata": {},
   "source": [
    "### Silver Medallists of USA - "
   ]
  },
  {
   "cell_type": "code",
   "execution_count": 20,
   "metadata": {},
   "outputs": [
    {
     "data": {
      "text/html": [
       "<div>\n",
       "<style scoped>\n",
       "    .dataframe tbody tr th:only-of-type {\n",
       "        vertical-align: middle;\n",
       "    }\n",
       "\n",
       "    .dataframe tbody tr th {\n",
       "        vertical-align: top;\n",
       "    }\n",
       "\n",
       "    .dataframe thead th {\n",
       "        text-align: right;\n",
       "    }\n",
       "</style>\n",
       "<table border=\"1\" class=\"dataframe\">\n",
       "  <thead>\n",
       "    <tr style=\"text-align: right;\">\n",
       "      <th></th>\n",
       "      <th>NOC</th>\n",
       "      <th>Year</th>\n",
       "      <th>Sport</th>\n",
       "      <th>Event</th>\n",
       "      <th>Medal</th>\n",
       "      <th>Bronze_Medal</th>\n",
       "      <th>Silver_Medal</th>\n",
       "      <th>Gold_Medal</th>\n",
       "    </tr>\n",
       "  </thead>\n",
       "  <tbody>\n",
       "    <tr>\n",
       "      <th>186</th>\n",
       "      <td>USA</td>\n",
       "      <td>2004</td>\n",
       "      <td>Wrestling</td>\n",
       "      <td>Wrestling Men's Featherweight, Freestyle</td>\n",
       "      <td>Silver</td>\n",
       "      <td>0</td>\n",
       "      <td>1</td>\n",
       "      <td>0</td>\n",
       "    </tr>\n",
       "    <tr>\n",
       "      <th>286</th>\n",
       "      <td>USA</td>\n",
       "      <td>2008</td>\n",
       "      <td>Softball</td>\n",
       "      <td>Softball Women's Softball</td>\n",
       "      <td>Silver</td>\n",
       "      <td>0</td>\n",
       "      <td>1</td>\n",
       "      <td>0</td>\n",
       "    </tr>\n",
       "    <tr>\n",
       "      <th>311</th>\n",
       "      <td>USA</td>\n",
       "      <td>2004</td>\n",
       "      <td>Taekwondo</td>\n",
       "      <td>Taekwondo Women's Featherweight</td>\n",
       "      <td>Silver</td>\n",
       "      <td>0</td>\n",
       "      <td>1</td>\n",
       "      <td>0</td>\n",
       "    </tr>\n",
       "    <tr>\n",
       "      <th>1450</th>\n",
       "      <td>USA</td>\n",
       "      <td>1912</td>\n",
       "      <td>Athletics</td>\n",
       "      <td>Athletics Men's Standing High Jump</td>\n",
       "      <td>Silver</td>\n",
       "      <td>0</td>\n",
       "      <td>1</td>\n",
       "      <td>0</td>\n",
       "    </tr>\n",
       "    <tr>\n",
       "      <th>1462</th>\n",
       "      <td>USA</td>\n",
       "      <td>1904</td>\n",
       "      <td>Swimming</td>\n",
       "      <td>Swimming Men's Plunge For Distance</td>\n",
       "      <td>Silver</td>\n",
       "      <td>0</td>\n",
       "      <td>1</td>\n",
       "      <td>0</td>\n",
       "    </tr>\n",
       "    <tr>\n",
       "      <th>...</th>\n",
       "      <td>...</td>\n",
       "      <td>...</td>\n",
       "      <td>...</td>\n",
       "      <td>...</td>\n",
       "      <td>...</td>\n",
       "      <td>...</td>\n",
       "      <td>...</td>\n",
       "      <td>...</td>\n",
       "    </tr>\n",
       "    <tr>\n",
       "      <th>262882</th>\n",
       "      <td>USA</td>\n",
       "      <td>1972</td>\n",
       "      <td>Athletics</td>\n",
       "      <td>Athletics Men's Shot Put</td>\n",
       "      <td>Silver</td>\n",
       "      <td>0</td>\n",
       "      <td>1</td>\n",
       "      <td>0</td>\n",
       "    </tr>\n",
       "    <tr>\n",
       "      <th>263273</th>\n",
       "      <td>USA</td>\n",
       "      <td>1968</td>\n",
       "      <td>Shooting</td>\n",
       "      <td>Shooting Mixed Small-Bore Rifle, Three Positio...</td>\n",
       "      <td>Silver</td>\n",
       "      <td>0</td>\n",
       "      <td>1</td>\n",
       "      <td>0</td>\n",
       "    </tr>\n",
       "    <tr>\n",
       "      <th>263511</th>\n",
       "      <td>USA</td>\n",
       "      <td>2000</td>\n",
       "      <td>Archery</td>\n",
       "      <td>Archery Men's Individual</td>\n",
       "      <td>Silver</td>\n",
       "      <td>0</td>\n",
       "      <td>1</td>\n",
       "      <td>0</td>\n",
       "    </tr>\n",
       "    <tr>\n",
       "      <th>263619</th>\n",
       "      <td>USA</td>\n",
       "      <td>1924</td>\n",
       "      <td>Swimming</td>\n",
       "      <td>Swimming Men's 100 metres Backstroke</td>\n",
       "      <td>Silver</td>\n",
       "      <td>0</td>\n",
       "      <td>1</td>\n",
       "      <td>0</td>\n",
       "    </tr>\n",
       "    <tr>\n",
       "      <th>269854</th>\n",
       "      <td>USA</td>\n",
       "      <td>1948</td>\n",
       "      <td>Swimming</td>\n",
       "      <td>Swimming Women's 100 metres Backstroke</td>\n",
       "      <td>Silver</td>\n",
       "      <td>0</td>\n",
       "      <td>1</td>\n",
       "      <td>0</td>\n",
       "    </tr>\n",
       "  </tbody>\n",
       "</table>\n",
       "<p>796 rows × 8 columns</p>\n",
       "</div>"
      ],
      "text/plain": [
       "        NOC  Year      Sport  \\\n",
       "186     USA  2004  Wrestling   \n",
       "286     USA  2008   Softball   \n",
       "311     USA  2004  Taekwondo   \n",
       "1450    USA  1912  Athletics   \n",
       "1462    USA  1904   Swimming   \n",
       "...     ...   ...        ...   \n",
       "262882  USA  1972  Athletics   \n",
       "263273  USA  1968   Shooting   \n",
       "263511  USA  2000    Archery   \n",
       "263619  USA  1924   Swimming   \n",
       "269854  USA  1948   Swimming   \n",
       "\n",
       "                                                    Event   Medal  \\\n",
       "186              Wrestling Men's Featherweight, Freestyle  Silver   \n",
       "286                             Softball Women's Softball  Silver   \n",
       "311                       Taekwondo Women's Featherweight  Silver   \n",
       "1450                   Athletics Men's Standing High Jump  Silver   \n",
       "1462                   Swimming Men's Plunge For Distance  Silver   \n",
       "...                                                   ...     ...   \n",
       "262882                           Athletics Men's Shot Put  Silver   \n",
       "263273  Shooting Mixed Small-Bore Rifle, Three Positio...  Silver   \n",
       "263511                           Archery Men's Individual  Silver   \n",
       "263619               Swimming Men's 100 metres Backstroke  Silver   \n",
       "269854             Swimming Women's 100 metres Backstroke  Silver   \n",
       "\n",
       "        Bronze_Medal  Silver_Medal  Gold_Medal  \n",
       "186                0             1           0  \n",
       "286                0             1           0  \n",
       "311                0             1           0  \n",
       "1450               0             1           0  \n",
       "1462               0             1           0  \n",
       "...              ...           ...         ...  \n",
       "262882             0             1           0  \n",
       "263273             0             1           0  \n",
       "263511             0             1           0  \n",
       "263619             0             1           0  \n",
       "269854             0             1           0  \n",
       "\n",
       "[796 rows x 8 columns]"
      ]
     },
     "execution_count": 20,
     "metadata": {},
     "output_type": "execute_result"
    }
   ],
   "source": [
    "medal_tally_1[(medal_tally_1['Medal']=='Silver') & (medal_tally_1['NOC']=='USA')]"
   ]
  },
  {
   "cell_type": "markdown",
   "metadata": {},
   "source": [
    "### Bronze Medal Tally of USA - "
   ]
  },
  {
   "cell_type": "code",
   "execution_count": null,
   "metadata": {},
   "outputs": [],
   "source": [
    "medal_tally_1[(medal_tally_1['Medal']=='Bronze') & (medal_tally_1['NOC']=='USA')]"
   ]
  },
  {
   "cell_type": "markdown",
   "metadata": {},
   "source": [
    "### Visualising Overall Tally with individual Medals (Gold, Silver, Bronze)"
   ]
  },
  {
   "cell_type": "code",
   "execution_count": null,
   "metadata": {},
   "outputs": [],
   "source": [
    "medal_tally_1['Tally_Overall'] = medal_tally_1['Bronze_Medal'].astype(int)+medal_tally_1['Silver_Medal'].astype(int)+medal_tally_1['Gold_Medal'].astype(int)\n",
    "sns.set()\n",
    "medal_tally_usa = medal_tally_1[medal_tally_1['NOC']=='USA']\n",
    "medal_tally_usa=pd.pivot_table(medal_tally_usa, index=['NOC','Year'],values=['Bronze_Medal','Silver_Medal','Gold_Medal','Tally_Overall'],aggfunc=np.sum)\n",
    "medal_tally_usa.plot()\n",
    "\n",
    "\n"
   ]
  },
  {
   "cell_type": "markdown",
   "metadata": {},
   "source": [
    "### USA's Medal Tally by Year (sorted by Medal Tally )"
   ]
  },
  {
   "cell_type": "code",
   "execution_count": null,
   "metadata": {},
   "outputs": [],
   "source": [
    "medal_tally_usa.sort_values('Tally_Overall',ascending=False)\n"
   ]
  },
  {
   "cell_type": "markdown",
   "metadata": {},
   "source": [
    "\n",
    "### Medal Tally of All Countries By Year (Sorted by Overall Tally)\n"
   ]
  },
  {
   "cell_type": "code",
   "execution_count": null,
   "metadata": {},
   "outputs": [],
   "source": [
    "medal_tally_by_year=pd.pivot_table(medal_tally_1, index=['NOC','Year'],values=['Bronze_Medal','Silver_Medal','Gold_Medal','Tally_Overall'],aggfunc=np.sum)\n",
    "\n",
    "medal_tally_by_year.sort_values('Tally_Overall',ascending=False)"
   ]
  },
  {
   "cell_type": "markdown",
   "metadata": {},
   "source": [
    "### Medal Tally of All Countries  from 1896 - 2016 (Sorted by Overall Tally)"
   ]
  },
  {
   "cell_type": "code",
   "execution_count": null,
   "metadata": {},
   "outputs": [],
   "source": [
    "medal_tally_overall=pd.pivot_table(medal_tally_1, index=['NOC'],values=['Bronze_Medal','Silver_Medal','Gold_Medal','Tally_Overall'],aggfunc=np.sum)\n",
    "medal_tally_overall = medal_tally_overall.sort_values('Tally_Overall',ascending=False)\n",
    "medal_tally_overall"
   ]
  },
  {
   "cell_type": "markdown",
   "metadata": {},
   "source": [
    "### Pie Chart of Medal Distribution of top 20 Countries"
   ]
  },
  {
   "cell_type": "code",
   "execution_count": null,
   "metadata": {},
   "outputs": [],
   "source": [
    "sns.set()\n",
    "\n",
    "medal_tally_overall=pd.pivot_table(medal_tally_overall.head(20), index=['NOC'],values=['Tally_Overall'],aggfunc=np.sum).plot(kind='pie',subplots=True,figsize=(50,100),\n",
    "       autopct='%1.1f%%',textprops={'fontsize': 40})"
   ]
  },
  {
   "cell_type": "markdown",
   "metadata": {},
   "source": [
    "### Home Advantage\n",
    "##### Countries actively place lucrative bids to get the hosting rights of every Olympics edition . Apart from Socio-political and economic reasons , we try to explore whether Home advantage impacts a given country's medals tally as well\n",
    "##### Based on the previous and next olympics' medal tally, we can clearly see the home advantage enjoyed by the host country in the below table.\n",
    "\n",
    "##### Inspired from - https://www.kaggle.com/chadalee/olympics-data-cleaning-exploration-prediction"
   ]
  },
  {
   "cell_type": "markdown",
   "metadata": {},
   "source": [
    "### Olympics host Countries "
   ]
  },
  {
   "cell_type": "code",
   "execution_count": null,
   "metadata": {},
   "outputs": [],
   "source": [
    "olympic_host_noc= olympics_host.merge(noc_country, left_on='Country' , right_on=u'region' , how ='left' )\n",
    "\n",
    "olympic_host_noc = olympic_host_noc.drop_duplicates(['Country','Year','Summer (Olympiad)'])\n",
    "olympic_host_noc = olympic_host_noc.drop_duplicates(['Country','Year','Winter'])\n",
    "olympic_host_noc = olympic_host_noc.drop_duplicates(['Country','Year'] , keep='last')\n",
    "olympic_host_noc = olympic_host_noc[['Year', 'NOC']]\n",
    "olympic_host_noc.columns = ['Year_of_Hosting', 'Host_Country_code']\n",
    "olympic_host_noc"
   ]
  },
  {
   "cell_type": "markdown",
   "metadata": {},
   "source": [
    "### Medal Tally along with Previous and Next Year Tally\n",
    "##### Reference - https://stackoverflow.com/questions/34855859/is-there-a-way-in-pandas-to-use-previous-row-value-in-dataframe-apply-when-previ\n"
   ]
  },
  {
   "cell_type": "code",
   "execution_count": null,
   "metadata": {},
   "outputs": [],
   "source": [
    "\n",
    "medal_tally_by_year.reset_index(inplace=True)\n",
    "medal_tally_by_year = medal_tally_by_year[['NOC', 'Year','Tally_Overall']]\n",
    "total_medals = medal_tally_by_year[['NOC','Year','Tally_Overall']]\n",
    "\n",
    "\n",
    "\n",
    "\n",
    "@jit\n",
    "def previous_year(tally):\n",
    "    new_tally = np.empty(tally.shape)\n",
    "    new_tally[0] =0\n",
    "    for i in range(1, new_tally.shape[0]):\n",
    "        new_tally[i] = tally[i-1]\n",
    "    return new_tally\n",
    "\n",
    "@jit\n",
    "def next_year(tally):\n",
    "    new_tally = np.empty(tally.shape)\n",
    "    new_tally[tally.shape[0]-1] =0\n",
    "    for i in range(0, new_tally.shape[0]-1):\n",
    "        new_tally[i] = tally[i+1]\n",
    "    return new_tally\n",
    "\n",
    "total_medals['Previous_Year_Tally'] = previous_year(total_medals['Tally_Overall'])\n",
    "total_medals['Next_Year_Tally'] = next_year(total_medals['Tally_Overall'])\n",
    "\n",
    "host_country_tally = olympic_host_noc.merge(total_medals , left_on = [ 'Host_Country_code','Year_of_Hosting'] \n",
    "                                           , right_on =['NOC', 'Year'] , how = 'left' )\n",
    "\n",
    "\n",
    "host = host_country_tally.dropna()\n",
    "host=host[['Year_of_Hosting', 'Host_Country_code','Previous_Year_Tally', 'Tally_Overall', 'Next_Year_Tally']]\n",
    "host\n",
    "\n",
    "\n"
   ]
  },
  {
   "cell_type": "markdown",
   "metadata": {},
   "source": [
    "### Can we Predict the Overall Medal Tally of a given country ?\n",
    "\n",
    "##### Research Paper - \"Standards on age, height and weight in Olympic running events for men\" -  https://www.ncbi.nlm.nih.gov/pmc/articles/PMC1859632/?page=2 \n",
    "\n",
    "##### The Research Paper nails down 6 essential factors when it comes to influencing the medal tally of a given country\n",
    "##### They are as follows - \n",
    "\n",
    "[Medal_Tally.png](attachment:Medal_Tally.png)\n",
    "\n",
    "\n",
    "##### We try to fit a linear regression line having GDP , Population , GDP per Capita and No of athletes of a given country and see how our Predictor Works. \n",
    "\n",
    "##### Inspired By - https://www.kaggle.com/chadalee/olympics-data-cleaning-exploration-prediction"
   ]
  },
  {
   "cell_type": "code",
   "execution_count": null,
   "metadata": {},
   "outputs": [],
   "source": [
    "predictor = medal_tally_by_year"
   ]
  },
  {
   "cell_type": "markdown",
   "metadata": {},
   "source": [
    "### Merging GDP Data with Year of Participation of the country"
   ]
  },
  {
   "cell_type": "code",
   "execution_count": null,
   "metadata": {
    "scrolled": true
   },
   "outputs": [],
   "source": [
    "gdp = olympics_NOC_gdp.drop_duplicates(['Country','Year'])\n",
    "gdp =  gdp.drop(['ID', 'Name', 'Sex', 'Age', 'Height', 'Weight', 'Games', 'Season', 'City', 'Sport', 'Event', 'Medal', 'Bronze_Medal',\n",
    "       'Silver_Medal', 'Gold_Medal', 'No_Medal', 'region', 'notes', 'Country',\n",
    "       'Country Code', 'Indicator Name', 'Indicator Code'],axis=1)\n",
    "gdp.dropna(inplace=True)\n",
    "gdp = gdp[gdp.Year>=1960]\n",
    "pivot_gdp = pd.melt(world, id_vars = ['Country Name', 'Country Code'], var_name = 'Year', value_name = 'GDP') #inspired\n",
    "pivot_gdp.dropna(inplace=True)\n",
    "\n",
    "pivot_gdp\n"
   ]
  },
  {
   "cell_type": "markdown",
   "metadata": {},
   "source": [
    "### Merging Population Data with Year of Participation of the country"
   ]
  },
  {
   "cell_type": "code",
   "execution_count": null,
   "metadata": {},
   "outputs": [],
   "source": [
    "pop = world_population.drop(world_population.columns[[2, 3]], axis=1)\n",
    "pivot_pop = pd.melt(pop, id_vars = ['Country', 'Country Code'], var_name = 'Year', value_name = 'Population') #inspired\n",
    "pivot_pop"
   ]
  },
  {
   "cell_type": "markdown",
   "metadata": {},
   "source": [
    "### Correlation Matrix of the variables\n",
    "\n",
    "#### We can see that GDP , Population and Per_Capita_GDP have positive correlation with the medals tally with GDP showing the highest correlation (0.67)"
   ]
  },
  {
   "cell_type": "markdown",
   "metadata": {},
   "source": [
    "### Merged Frame with Corresponding GDP , Population and GDP Per-capita income with Year of Participation of the country"
   ]
  },
  {
   "cell_type": "code",
   "execution_count": null,
   "metadata": {},
   "outputs": [],
   "source": [
    "gdp_pop = pivot_gdp.merge(pivot_pop,left_on =['Country Code' , 'Year'],right_on = ['Country Code' , 'Year'] , how='left' )\n",
    "gdp_pop.drop_duplicates(['Country Code', 'Year' ])\n",
    "gdp_pop.dropna(inplace=True)\n",
    "\n",
    "gdp_pop = gdp_pop[['Country Name' , 'Country Code' , 'Year' , 'GDP' , 'Population']]\n",
    "gdp_pop\n",
    "predictor['Year'] = predictor['Year'].astype('str')\n",
    "pred = gdp_pop.merge(predictor, left_on =['Country Code', 'Year'] , right_on = ['NOC' , 'Year'] , how ='left' )\n",
    "predictor['Year'] = predictor['Year'].astype('str')\n",
    "pred.dropna()\n",
    "pred['Per_Capita_GDP'] = pred['GDP']/pred['Population']\n",
    "pred.dropna(inplace=True)\n",
    "pred\n",
    "#predictor['Population']= g[(predictor['Year']==g['Year']) & (predictor['NOC']== g['NOC'])]['Team']"
   ]
  },
  {
   "cell_type": "code",
   "execution_count": null,
   "metadata": {},
   "outputs": [],
   "source": [
    "correlation_matrix = pred.corr()\n",
    "correlation_matrix.style.background_gradient(cmap='seismic')"
   ]
  },
  {
   "cell_type": "markdown",
   "metadata": {},
   "source": [
    "### Normalise and Classify the models \n",
    "#### We need to normalise the input data as there is high variance in them\n",
    "#### We will use MinMax Scaler to Normalise the data\n",
    "\n",
    "\n",
    "###  Classifer - \n",
    "#### We will use linear regression to predict the medal tally of the country\n"
   ]
  },
  {
   "cell_type": "code",
   "execution_count": null,
   "metadata": {},
   "outputs": [],
   "source": [
    "#Classifier \n",
    "\n",
    "scaler = preprocessing.MinMaxScaler()\n",
    "A = pred[['GDP', 'Population' , 'Per_Capita_GDP']]\n",
    "A = scaler.fit_transform(A)\n",
    "B = pred['Tally_Overall']\n",
    "\n",
    "model = sm.OLS(B, A)\n",
    "results_model = model.fit()\n",
    "print(results_model.summary())\n",
    "\n",
    "B_predicted = results_model.predict(A)\n",
    "rmse = np.sqrt(metrics.mean_squared_error(B, B_predicted))\n",
    "print(\"Root Mean Square Error of Linear Regression \" +  str(rmse))\n"
   ]
  },
  {
   "cell_type": "markdown",
   "metadata": {},
   "source": [
    "#### We can see that R-Squared Value of linear Regression is 0.59 (59% accuracy) and RMSE is 15.7 which means the predictor is predicting with an error of 15 medals.\n",
    "#### Can we Improve this preformance ? \n",
    "\n",
    "#### Let's try to predict with Random Forest Regression and see it's performance."
   ]
  },
  {
   "cell_type": "markdown",
   "metadata": {},
   "source": [
    "### Random Forest Regression"
   ]
  },
  {
   "cell_type": "code",
   "execution_count": null,
   "metadata": {},
   "outputs": [],
   "source": [
    "reg = RandomForestRegressor(n_estimators=100)\n",
    "reg.fit(A, B)\n",
    "\n",
    "print(\"Random Forest Regression : {:.2f}\".format(reg.score(A, B)))\n",
    "B_predict = reg.predict(A)\n",
    "\n",
    "rmse = np.sqrt(metrics.mean_squared_error(B, B_predict))\n",
    "print(\"Root Mean Square Error Of Random Forest Regressor \" + str(rmse) )\n",
    "plt.scatter(B, B_predict)\n",
    "\n",
    "#gdp['Population'] = str(list(gdp['Year'].values))"
   ]
  },
  {
   "cell_type": "markdown",
   "metadata": {},
   "source": [
    "#### We can see that R-Squared Value of Random Forest Regression is 0.94 (94% accuracy) and RMSE is 4.85 which means the predictor is predicting with an error of 5 medals.\n",
    "\n",
    "#### There is a drastic increase in the accuracy with Random Forest Regression"
   ]
  },
  {
   "cell_type": "markdown",
   "metadata": {},
   "source": [
    "## HDI  (Human Development Index)"
   ]
  },
  {
   "cell_type": "markdown",
   "metadata": {},
   "source": [
    "### Let's investigate whether HDI has an impact on Medal Tally. In our dataset , we have HDI Data for 3 Olympics years - 1980 , 2000 and 2008"
   ]
  },
  {
   "cell_type": "markdown",
   "metadata": {},
   "source": [
    "### Merging HDI data with NOC Data "
   ]
  },
  {
   "cell_type": "code",
   "execution_count": null,
   "metadata": {},
   "outputs": [],
   "source": [
    "world_hdi.dropna(inplace=True)\n",
    "pivot_hdi = pd.melt(world_hdi, id_vars = ['HDI'], value_name = 'Human_Dev_Index') #inspired\n",
    "pivot_hdi.dropna(inplace=True)\n",
    "pivot_hdi_noc = pivot_hdi.merge(noc_country , left_on ='HDI' , right_on='region' , how='left' ) \n",
    "\n",
    "pivot_hdi_noc.drop_duplicates(['variable','region','HDI'],keep='last')\n",
    "\n",
    "pivot_hdi_noc = pivot_hdi_noc[['NOC', 'variable' , 'Human_Dev_Index' ,'HDI' ]]\n",
    "pivot_hdi_noc.dropna(inplace=True)\n",
    "pivot_hdi_noc.columns = ['NOC_HDI','Year_HDI', 'Human_Dev_Index' ,'Country_HDI' ]\n",
    "pivot_hdi_noc"
   ]
  },
  {
   "cell_type": "code",
   "execution_count": null,
   "metadata": {},
   "outputs": [],
   "source": [
    "\n",
    "pred = pred.merge(pivot_hdi_noc , left_on=['Country Name' ,'Year'] , right_on = ['Country_HDI','Year_HDI'] ,how='left' )\n",
    "pred.dropna(inplace=True)\n",
    "pred"
   ]
  },
  {
   "cell_type": "markdown",
   "metadata": {},
   "source": [
    "#### Correlation Matrix with HDI"
   ]
  },
  {
   "cell_type": "code",
   "execution_count": null,
   "metadata": {},
   "outputs": [],
   "source": [
    "correlation_matrix = pred.corr()\n",
    "correlation_matrix.style.background_gradient(cmap='seismic')"
   ]
  },
  {
   "cell_type": "markdown",
   "metadata": {},
   "source": [
    "#### Although not significant , HDI does have a positive correlation with the Medal Tally. \n",
    "#### Let's investigate to see if it could help us predict the medal tally better"
   ]
  },
  {
   "cell_type": "code",
   "execution_count": null,
   "metadata": {},
   "outputs": [],
   "source": [
    "\n",
    "MinMax = preprocessing.MinMaxScaler()\n",
    "A = pred[['GDP', 'Population' , 'Per_Capita_GDP','Human_Dev_Index']]\n",
    "A = MinMax.fit_transform(A)\n",
    "B = pred['Tally_Overall']\n",
    "model = sm.OLS(B, A)\n",
    "results = model.fit()\n",
    "print(results.summary())\n",
    "B_predicted = results.predict(A)\n",
    "rmse = np.sqrt(metrics.mean_squared_error(B, B_predicted))\n",
    "print(rmse)\n",
    "print(\"\\n \\nRMSE Of Linear Regressor \" + str(rmse) )\n"
   ]
  },
  {
   "cell_type": "markdown",
   "metadata": {},
   "source": [
    "####  R-Squared Value of linear Regression is 0.69 (69% accuracy) and RMSE is 13 which means the predictor is predicting with an error of 13 medals.\n",
    "\n",
    "#### Random Forest Regression - "
   ]
  },
  {
   "cell_type": "code",
   "execution_count": null,
   "metadata": {},
   "outputs": [],
   "source": [
    "\n",
    "reg = RandomForestRegressor(n_estimators=100)\n",
    "reg.fit(A, B)\n",
    "\n",
    "B_predict = reg.predict(A)\n",
    "\n",
    "\n",
    "rmse = np.sqrt(metrics.mean_squared_error(B, B_predict))\n",
    "print(\"\\n \\nRandom Forest Regression Fit: {:.2f}\".format(reg.score(A, B)))\n",
    "print(\"\\n \\nRMSE Of Random Forest Regressor \" + str(rmse) )\n",
    "plt.scatter(B, B_predict)\n",
    "plt.title(\"Scatter Plot for Random Forrest Regressor\")"
   ]
  },
  {
   "cell_type": "markdown",
   "metadata": {},
   "source": [
    "#### R-Squared Value of Random Forest Regression is 0.96 (96% accuracy) and RMSE is 3.8 which means the predictor is predicting with an error of 4 medals.\n",
    "\n",
    "#### Again, Random Forest Regression performs better than Linear Regression"
   ]
  },
  {
   "cell_type": "markdown",
   "metadata": {},
   "source": [
    "## Comparision of per capita GDP when Japan was the host country vs when Japan wasn't\n",
    "1. Impact on GDP would vary depending on if the country is a developing country or developed country?\n",
    "2. Additionally impact would also vary if the country hosts Summer/Winter Olympics\n",
    "\n",
    "Note : We are not considering the above 2 criterias for our analysis\n",
    "Result : All the countries show an increase in the GDP/capita over a 3 year period"
   ]
  },
  {
   "cell_type": "code",
   "execution_count": null,
   "metadata": {},
   "outputs": [],
   "source": [
    "gdp_pop = gdp_pop.astype({'Year': 'int64'})\n",
    "gdp_pop.dtypes\n",
    "host_country_gdp = olympic_host_noc.merge(gdp_pop , left_on = ['Host_Country_code','Year_of_Hosting'] \n",
    "                                           , right_on =['Country Code','Year'] , how = 'left' )\n",
    "host_country_gdp = host_country_gdp.fillna(0)\n",
    "host_country_gdp = host_country_gdp[host_country_gdp.Year != 0]\n",
    "host_country_gdp['Per_Capita_GDP'] = host_country_gdp['GDP']/host_country_gdp['Population']\n",
    "\n",
    "gdp_pop['Per_Capita_GDP'] = gdp_pop['GDP']/gdp_pop['Population']\n",
    "\n",
    "#Per Capita GDP when Japan was participating\n",
    "per_capita_gdp_JPN = gdp_pop.loc[gdp_pop['Country Code'] == 'JPN']\n",
    "print(per_capita_gdp_JPN.head(100))\n",
    "#Per Capita GDP when Japan was hosting\n",
    "per_capita_gdp_JPN_host = host_country_gdp.loc[host_country_gdp['Country Code'] == 'JPN']\n",
    "print(per_capita_gdp_JPN_host.head(10))"
   ]
  },
  {
   "cell_type": "code",
   "execution_count": null,
   "metadata": {},
   "outputs": [],
   "source": [
    "nohostyear = per_capita_gdp_JPN['Year']\n",
    "nohostGDP = per_capita_gdp_JPN['Per_Capita_GDP']\n",
    "hostyear = per_capita_gdp_JPN_host['Year_of_Hosting']\n",
    "hostGDP = per_capita_gdp_JPN_host['Per_Capita_GDP']"
   ]
  },
  {
   "cell_type": "code",
   "execution_count": null,
   "metadata": {},
   "outputs": [],
   "source": [
    "    index = np.arange(len(nohostyear))\n",
    "    plt.bar(index, nohostGDP)\n",
    "    plt.xlabel('Participation Year in Olympics', fontsize=5)\n",
    "    plt.ylabel('Per Capita GDP', fontsize=5)\n",
    "    plt.xticks(index, nohostyear, fontsize=5,rotation=10)\n",
    "    plt.title('Changing trends in Japan Per Capita GDP as a participant')\n",
    "    plt.show()"
   ]
  },
  {
   "cell_type": "code",
   "execution_count": null,
   "metadata": {},
   "outputs": [],
   "source": [
    "    index = np.arange(len(hostyear))\n",
    "    plt.bar(index, hostGDP)\n",
    "    plt.xlabel('Hosting Year in Olympics', fontsize=5)\n",
    "    plt.ylabel('Per Capita GDP', fontsize=10)\n",
    "    plt.xticks(index, hostyear, fontsize=5,rotation=10)\n",
    "    plt.title('Changing trends in Japan Per Capita GDP as a host country')\n",
    "    plt.show()"
   ]
  },
  {
   "cell_type": "markdown",
   "metadata": {},
   "source": [
    "### Interesting Stat - \n",
    "\n",
    "### How far were the cities that hosted Olympics Each Year from the city that hosted the previous year?\n",
    "\n",
    "#### (Vectorisation + Numba jit compiler)\n",
    "\n",
    "##### Ref - https://engineering.upside.com/a-beginners-guide-to-optimizing-pandas-code-for-speed-c09ef2c6a4d6"
   ]
  },
  {
   "cell_type": "code",
   "execution_count": null,
   "metadata": {},
   "outputs": [],
   "source": [
    "#interesting Stat - \n",
    "\n",
    "#how far were the cities that hosted Olympics Each Year?\n",
    "\n",
    "@jit\n",
    "def getroutedistance(host_latitude, host_longitude) :\n",
    "      latitude = list(host_latitude)\n",
    "      longitude = list(host_longitude)\n",
    "      distance = []\n",
    "      distance.append(0)\n",
    "      for i in range(0,len(latitude)-1):\n",
    "           # print(latitude[i], longitude[i],latitude[i+1], longitude[i+1])\n",
    "            source = LatLon(latitude[i], longitude[i])\n",
    "            destination = LatLon(latitude[i+1], longitude[i+1]) \n",
    "            distance.append(m2km(source.distanceTo(destination)))\n",
    "            #distance.append(m2km(distance))\n",
    "            #print(distance)\n",
    "      return distance\n",
    "\n",
    "\n",
    "olympics_host['distance(KM)'] = getroutedistance(olympics_host['latitude'],olympics_host['longitude'] )\n",
    "\n",
    "olympics_host"
   ]
  },
  {
   "cell_type": "markdown",
   "metadata": {},
   "source": [
    "## Analysing Physiological Factors\n",
    "### Variation of Height and Weight of Olymians Historically"
   ]
  },
  {
   "cell_type": "markdown",
   "metadata": {},
   "source": [
    "#### Average Height of the Olympians over the years"
   ]
  },
  {
   "cell_type": "code",
   "execution_count": null,
   "metadata": {},
   "outputs": [],
   "source": [
    "historical = olympics_NOC.dropna(subset=['Height','Weight']).reset_index()\n",
    "history_height_mean = historical.groupby(['Year'])['Height'].mean()\n",
    "history_height_mean.plot()"
   ]
  },
  {
   "cell_type": "code",
   "execution_count": null,
   "metadata": {},
   "outputs": [],
   "source": [
    "#### Standard Deviation of the Olympians over the years"
   ]
  },
  {
   "cell_type": "code",
   "execution_count": null,
   "metadata": {},
   "outputs": [],
   "source": [
    "history_height_std = historical.groupby(['Year'])['Height'].std()\n",
    "history_height_std.plot()"
   ]
  },
  {
   "cell_type": "markdown",
   "metadata": {},
   "source": [
    "#### Average Weight of the Olympians over the years"
   ]
  },
  {
   "cell_type": "code",
   "execution_count": null,
   "metadata": {},
   "outputs": [],
   "source": [
    "history_weight_mean = historical.groupby(['Year'])['Weight'].mean()\n",
    "history_weight_mean.plot()\n"
   ]
  },
  {
   "cell_type": "markdown",
   "metadata": {},
   "source": [
    "#### Standard Deviation of the Olympians over the years"
   ]
  },
  {
   "cell_type": "code",
   "execution_count": null,
   "metadata": {},
   "outputs": [],
   "source": [
    "history_weight_std = historical.groupby(['Year'])['Weight'].std()\n",
    "history_weight_std.plot()\n"
   ]
  },
  {
   "cell_type": "markdown",
   "metadata": {},
   "source": [
    "## We Analyse the Claims made by a Research Paper based on 1972 Olympics , when it comes to the Height , Weight and Age of the athletes\n",
    "#### Research Paper - \"Standards on age, height and weight in Olympic running events for men\"\n",
    "#### The paper claims that Medalists in 100m Sprint event are Taller and heavier than other participants.\n",
    "#### Additionally, we try to explore this claim for Age and BMI as well.\n",
    "#### Overall Participants Average Height ,Height of the Gold Medalist and Height of All Medalists ( Gold , Silver , Bronze ) of 100m Running Event From 1896 -2016\n"
   ]
  },
  {
   "cell_type": "code",
   "execution_count": null,
   "metadata": {},
   "outputs": [],
   "source": [
    " sprinter_stats(olympics_NOC , 'Height')"
   ]
  },
  {
   "cell_type": "code",
   "execution_count": null,
   "metadata": {},
   "outputs": [],
   "source": [
    "sprinter_stats(olympics_NOC , 'Height')"
   ]
  },
  {
   "cell_type": "code",
   "execution_count": null,
   "metadata": {},
   "outputs": [],
   "source": [
    "sprinter_stats(olympics_NOC , 'Height').set_index('Year').plot(figsize=(20,8))\n"
   ]
  },
  {
   "cell_type": "code",
   "execution_count": null,
   "metadata": {},
   "outputs": [],
   "source": [
    "sprinter_stats(olympics_NOC , 'Weight')"
   ]
  },
  {
   "cell_type": "code",
   "execution_count": null,
   "metadata": {},
   "outputs": [],
   "source": [
    "sprinter_stats(olympics_NOC , 'Weight').set_index('Year').plot(figsize=(20,8))"
   ]
  },
  {
   "cell_type": "code",
   "execution_count": null,
   "metadata": {},
   "outputs": [],
   "source": [
    "sprinter_stats(olympics_NOC , 'Age')"
   ]
  },
  {
   "cell_type": "code",
   "execution_count": null,
   "metadata": {},
   "outputs": [],
   "source": [
    "sprinter_stats(olympics_NOC , 'Age').set_index('Year').plot(figsize=(20,8))\n",
    "\n"
   ]
  },
  {
   "cell_type": "markdown",
   "metadata": {},
   "source": [
    "### Does history impact olympics? \n",
    "\n",
    "\n",
    "#### Comparision of athelete participation over summer and winter olympics\n",
    "It is known that the participation of athletes varies based on the type of olympics.It can be inferred that summer olympics observes more participation owing to various factors like more participating countries in summer olympics, more events conducted in summer olympics and higher facilities provided for summer olympics\n",
    "\n",
    "\n"
   ]
  },
  {
   "cell_type": "code",
   "execution_count": null,
   "metadata": {},
   "outputs": [],
   "source": []
  },
  {
   "cell_type": "code",
   "execution_count": null,
   "metadata": {},
   "outputs": [],
   "source": [
    "athletes(olympics_NOC, 'Summer')\n",
    "athletes(olympics_NOC, 'Winter')"
   ]
  },
  {
   "cell_type": "markdown",
   "metadata": {},
   "source": [
    "##### We can see a noticible dip in participation at 1936 , 1956and 1980  and No Participation during 1940  , 1944\n",
    "##### On further exploration , we could see that the following Events Led to drastic change in the participation\n",
    "##### 1936 Summer Olympics (Berlin, Germany) -  Hitler’s rise to power, less countries were invited , Racism .\n",
    "##### 1940 and 1944 Summer Olympics (not held due to World War II)\n",
    "##### 1956 Summer Olympics ( Melbourne, Australia) -  Suez Crisis (Egypt, Iraq, and Lebanon ) , Hungarian revolution (Netherlands, Spain, and Switzerland), Republic of China ( Formosa) . \n",
    "##### 1980 Summer Olympics (Moscow, Soviet Union) - Soviet invasion of Afghanistan (USA and its allies boycotted)\n",
    "##### 1984 Summer Olympics (Los Angeles,  United States ) -Russia Boycotted (Security Reasons)\n",
    "\n",
    "\n",
    "\n"
   ]
  },
  {
   "cell_type": "markdown",
   "metadata": {},
   "source": [
    "### Comparision of the number of events in Summer and Winter Olympics\n",
    "It can be observed that summer olympics has more events in comparision to winter olympics.\n",
    "Summer olympics observes higher number of events because of factors like :\n",
    "1. It took place before winter olympics started\n",
    "2. Geographic & infrastructure requirements required for winter olympics"
   ]
  },
  {
   "cell_type": "code",
   "execution_count": null,
   "metadata": {},
   "outputs": [],
   "source": [
    "events(olympics_NOC_gdp , 'Summer' )\n",
    "events(olympics_NOC_gdp , 'Winter' )"
   ]
  },
  {
   "cell_type": "markdown",
   "metadata": {},
   "source": [
    "### Analyzing female participation trend over the years\n",
    "It can be observed that female particpation increased tremendously over the years. \n",
    "Below are certain factors that contribute towards it:\n",
    "1. Olympics introduced new women events every year\n",
    "2. Reputation of Olympics impacted countries to encourage women participation"
   ]
  },
  {
   "cell_type": "code",
   "execution_count": null,
   "metadata": {},
   "outputs": [],
   "source": [
    "FemaleTrend(olympics_NOC,'F','Summer')\n",
    "FemaleTrend(olympics_NOC,'F','Winter')"
   ]
  },
  {
   "cell_type": "code",
   "execution_count": null,
   "metadata": {},
   "outputs": [],
   "source": [
    "# Deleting the columns where Gold Medal is 0\n",
    "ZeroGold = olympics_NOC[ olympics_NOC['Gold_Medal'] == 0 ].index\n",
    " \n",
    "# Delete these row indexes\n",
    "olympics_NOC.drop(ZeroGold , inplace=True)"
   ]
  },
  {
   "cell_type": "markdown",
   "metadata": {},
   "source": [
    "#### Analyzing top 5 countries who won gold medals over the period in Summer olympics"
   ]
  },
  {
   "cell_type": "code",
   "execution_count": null,
   "metadata": {},
   "outputs": [],
   "source": [
    "y = olympics_NOC.groupby(['Season','Sport','region'])['Gold_Medal'].count().reset_index(name=\"count\")\n",
    "OnlySummer = y[y['Season'] == 'Summer'] \n",
    "idx = OnlySummer.groupby(['Sport'])['count'].transform(max) == OnlySummer['count']\n",
    "OnlySummer[idx].sort_values(by=['count'],ascending=False)\n",
    "a=OnlySummer[idx].groupby(['region'])['count'].sum().reset_index(name=\"Summer Gold Medal\")\n",
    "d=a.nlargest(5,'Summer Gold Medal')\n",
    "d"
   ]
  },
  {
   "cell_type": "markdown",
   "metadata": {},
   "source": [
    "#### Analyzing top 5 countries who won gold medals over the period in Winter olympics\n",
    "It can be observed that Nordic countries perform better in Winter olympics than Summer olympics owing to geographic advantage,\n",
    "better winter events training facilities"
   ]
  },
  {
   "cell_type": "code",
   "execution_count": null,
   "metadata": {},
   "outputs": [],
   "source": [
    "OnlyWinter = y[y['Season'] == 'Winter'] \n",
    "indx1 = OnlyWinter.groupby(['Sport'])['count'].transform(max) == OnlyWinter['count']\n",
    "OnlyWinter[indx1].sort_values(by=['count'],ascending=False)\n",
    "b=OnlyWinter[indx1].groupby(['region'])['count'].sum().reset_index(name=\"Winter Gold Medal\")\n",
    "c=b.nlargest(5,'Winter Gold Medal')\n",
    "c"
   ]
  },
  {
   "cell_type": "markdown",
   "metadata": {},
   "source": [
    "#### Calculating top 3 PERFORMING events for USA,RUSSIA AND UK IN SUMMER OLYMPICS "
   ]
  },
  {
   "cell_type": "code",
   "execution_count": null,
   "metadata": {},
   "outputs": [],
   "source": [
    "a1=OnlySummer[idx].groupby(['region','Sport'])['count'].sum().reset_index(name=\"Summer Gold Medal\")\n",
    "z=a1.groupby(['region','Sport'], sort=False)['Summer Gold Medal'].max().reset_index(name=\"Summer Count of Gold Medal\")\n",
    "\n",
    "k=z[z['region'] == 'USA']\n",
    "l=k.nlargest(5,'Summer Count of Gold Medal')\n",
    "print(l)\n",
    "\n",
    "k1=z[z['region'] == 'Russia']\n",
    "l1=k1.nlargest(5,'Summer Count of Gold Medal')\n",
    "print(l1)\n",
    "\n",
    "k2=z[z['region'] == 'UK']\n",
    "l2=k2.nlargest(5,'Summer Count of Gold Medal')\n",
    "print(l2)\n"
   ]
  },
  {
   "cell_type": "markdown",
   "metadata": {},
   "source": [
    "#### Calculating top 3 PERFORMING events for USA,GERMANY AND NORWAY IN WINTER OLYMPICS"
   ]
  },
  {
   "cell_type": "code",
   "execution_count": null,
   "metadata": {},
   "outputs": [],
   "source": [
    "c1=OnlyWinter[indx1].groupby(['region','Sport'])['count'].sum().reset_index(name=\"Winter Gold Medal\")\n",
    "z=c1.groupby(['region','Sport'], sort=False)['Winter Gold Medal'].max().reset_index(name=\"Winter Count of Gold Medal\")\n",
    "\n",
    "m=z[z['region'] == 'USA']\n",
    "n=m.nlargest(5,'Winter Count of Gold Medal')\n",
    "print(n)\n",
    "\n",
    "m1=z[z['region'] == 'Germany']\n",
    "n1=m1.nlargest(5,'Winter Count of Gold Medal')\n",
    "print(n1)\n",
    "\n",
    "m2=z[z['region'] == 'Norway']\n",
    "n2=m2.nlargest(5,'Winter Count of Gold Medal')\n",
    "print(n2)"
   ]
  },
  {
   "cell_type": "markdown",
   "metadata": {},
   "source": [
    "## References\n",
    "\n",
    "### Datasets \n",
    "\n",
    "##### Olympics Dataset , NOC -  https://www.kaggle.com/heesoo37/120-years-of-olympic-history-athletes-and-results\n",
    "\n",
    "##### GDP Dataset -  https://datahub.io/core/gdp\n",
    "\n",
    "##### Population Dataset - https://vizhub.com/celtic660/datasets/world_pop\n",
    "\n",
    "##### Human Development Index - https://data.world/brianray/gapminder-hdi-human-developmen\n",
    "\n",
    "#### Olympics Host - https://www.kaggle.com/pavanraj159/olympic-host\n",
    "\n",
    "\n",
    "\n",
    "### Books and Research Papers \n",
    "\n",
    "##### 1. Jake VanderPlas. 2016. <em>Python Data Science Handbook: Essential Tools for Working with Data</em> (1st ed.). O'Reilly Media, Inc.\n",
    "##### 2.  McKinney: \"Python for Data Analysis\", 2nd Edition, by Wes McKinney, ©2017.\n",
    "##### 3. “Going for Gold Medals: Factors affecting Olympic Performance” -\n",
    "“https://www.researchgate.net/publication/278585677_Going_for_Gold_Medals_Factors_affecting_Olympic_Performance\n",
    "##### 4.\"Standards on age, height and weight in Olympic running events for men\" -  https://www.ncbi.nlm.nih.gov/pmc/articles/PMC1859632/?page=2\n",
    "\n",
    "### Online References \n",
    "\n",
    "##### 1. https://en.wikipedia.org/wiki/Olympic_Games\n",
    "##### 2. https://stackoverflow.com/  \n",
    "##### 3. https://www.olympic.org/\n",
    "##### 4. https://towardsdatascience.com/understanding-the-need-for-optimization-when-using-pandas-8ce23b83330c\n",
    "##### 5. https://www.kaggle.com/chadalee/olympics-data-cleaning-exploration-prediction\n",
    "##### 6. https://www.kaggle.com/pavanraj159/olympics-history-1896-2016\n",
    "##### 7. https://www.kaggle.com/arunsankar/key-insights-from-olympic-history-data\n",
    "##### 8. https://en.wikipedia.org/wiki/List_of_Olympic_Games_scandals_and_controversies\n"
   ]
  }
 ],
 "metadata": {
  "kernelspec": {
   "display_name": "Python 3",
   "language": "python",
   "name": "python3"
  },
  "language_info": {
   "codemirror_mode": {
    "name": "ipython",
    "version": 3
   },
   "file_extension": ".py",
   "mimetype": "text/x-python",
   "name": "python",
   "nbconvert_exporter": "python",
   "pygments_lexer": "ipython3",
   "version": "3.7.3"
  }
 },
 "nbformat": 4,
 "nbformat_minor": 2
}
