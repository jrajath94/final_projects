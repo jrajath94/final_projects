{
 "cells": [
  {
   "cell_type": "code",
   "execution_count": 5,
   "metadata": {
    "collapsed": true,
    "pycharm": {
     "is_executing": false
    }
   },
   "outputs": [
    {
     "name": "stdout",
     "text": [
      "Hello Folks!\n"
     ],
     "output_type": "stream"
    },
    {
     "data": {
      "text/plain": "   ID                      Name Sex   Age  Height  Weight            Team  \\\n0   1                 A Dijiang   M  24.0   180.0    80.0           China   \n1   2                  A Lamusi   M  23.0   170.0    60.0           China   \n2   3       Gunnar Nielsen Aaby   M  24.0     NaN     NaN         Denmark   \n3   4      Edgar Lindenau Aabye   M  34.0     NaN     NaN  Denmark/Sweden   \n4   5  Christine Jacoba Aaftink   F  21.0   185.0    82.0     Netherlands   \n\n   NOC        Games  Year  ... l20_apps l20_medal l20_gold l20_silver  \\\n0  CHN  1992 Summer  1992  ...     11.0     438.0    185.0      128.0   \n1  CHN  2012 Summer  2012  ...     11.0     438.0    185.0      128.0   \n2  DEN  1920 Summer  1920  ...     11.0      46.0     10.0       17.0   \n3  DEN  1900 Summer  1900  ...     11.0      46.0     10.0       17.0   \n4  NED  1988 Winter  1988  ...     11.0     182.0     68.0       61.0   \n\n  l20_bronze mostsuccessfulsport  medals golds silvers  bronzes  \n0      125.0        Table Tennis    53.0  28.0    17.0      8.0  \n1      125.0        Table Tennis    53.0  28.0    17.0      8.0  \n2       19.0             Sailing    30.0  12.0     9.0      9.0  \n3       19.0             Sailing    30.0  12.0     9.0      9.0  \n4       53.0       Speed Skating   121.0  42.0    40.0     39.0  \n\n[5 rows x 48 columns]",
      "text/html": "<div>\n<style scoped>\n    .dataframe tbody tr th:only-of-type {\n        vertical-align: middle;\n    }\n\n    .dataframe tbody tr th {\n        vertical-align: top;\n    }\n\n    .dataframe thead th {\n        text-align: right;\n    }\n</style>\n<table border=\"1\" class=\"dataframe\">\n  <thead>\n    <tr style=\"text-align: right;\">\n      <th></th>\n      <th>ID</th>\n      <th>Name</th>\n      <th>Sex</th>\n      <th>Age</th>\n      <th>Height</th>\n      <th>Weight</th>\n      <th>Team</th>\n      <th>NOC</th>\n      <th>Games</th>\n      <th>Year</th>\n      <th>...</th>\n      <th>l20_apps</th>\n      <th>l20_medal</th>\n      <th>l20_gold</th>\n      <th>l20_silver</th>\n      <th>l20_bronze</th>\n      <th>mostsuccessfulsport</th>\n      <th>medals</th>\n      <th>golds</th>\n      <th>silvers</th>\n      <th>bronzes</th>\n    </tr>\n  </thead>\n  <tbody>\n    <tr>\n      <th>0</th>\n      <td>1</td>\n      <td>A Dijiang</td>\n      <td>M</td>\n      <td>24.0</td>\n      <td>180.0</td>\n      <td>80.0</td>\n      <td>China</td>\n      <td>CHN</td>\n      <td>1992 Summer</td>\n      <td>1992</td>\n      <td>...</td>\n      <td>11.0</td>\n      <td>438.0</td>\n      <td>185.0</td>\n      <td>128.0</td>\n      <td>125.0</td>\n      <td>Table Tennis</td>\n      <td>53.0</td>\n      <td>28.0</td>\n      <td>17.0</td>\n      <td>8.0</td>\n    </tr>\n    <tr>\n      <th>1</th>\n      <td>2</td>\n      <td>A Lamusi</td>\n      <td>M</td>\n      <td>23.0</td>\n      <td>170.0</td>\n      <td>60.0</td>\n      <td>China</td>\n      <td>CHN</td>\n      <td>2012 Summer</td>\n      <td>2012</td>\n      <td>...</td>\n      <td>11.0</td>\n      <td>438.0</td>\n      <td>185.0</td>\n      <td>128.0</td>\n      <td>125.0</td>\n      <td>Table Tennis</td>\n      <td>53.0</td>\n      <td>28.0</td>\n      <td>17.0</td>\n      <td>8.0</td>\n    </tr>\n    <tr>\n      <th>2</th>\n      <td>3</td>\n      <td>Gunnar Nielsen Aaby</td>\n      <td>M</td>\n      <td>24.0</td>\n      <td>NaN</td>\n      <td>NaN</td>\n      <td>Denmark</td>\n      <td>DEN</td>\n      <td>1920 Summer</td>\n      <td>1920</td>\n      <td>...</td>\n      <td>11.0</td>\n      <td>46.0</td>\n      <td>10.0</td>\n      <td>17.0</td>\n      <td>19.0</td>\n      <td>Sailing</td>\n      <td>30.0</td>\n      <td>12.0</td>\n      <td>9.0</td>\n      <td>9.0</td>\n    </tr>\n    <tr>\n      <th>3</th>\n      <td>4</td>\n      <td>Edgar Lindenau Aabye</td>\n      <td>M</td>\n      <td>34.0</td>\n      <td>NaN</td>\n      <td>NaN</td>\n      <td>Denmark/Sweden</td>\n      <td>DEN</td>\n      <td>1900 Summer</td>\n      <td>1900</td>\n      <td>...</td>\n      <td>11.0</td>\n      <td>46.0</td>\n      <td>10.0</td>\n      <td>17.0</td>\n      <td>19.0</td>\n      <td>Sailing</td>\n      <td>30.0</td>\n      <td>12.0</td>\n      <td>9.0</td>\n      <td>9.0</td>\n    </tr>\n    <tr>\n      <th>4</th>\n      <td>5</td>\n      <td>Christine Jacoba Aaftink</td>\n      <td>F</td>\n      <td>21.0</td>\n      <td>185.0</td>\n      <td>82.0</td>\n      <td>Netherlands</td>\n      <td>NED</td>\n      <td>1988 Winter</td>\n      <td>1988</td>\n      <td>...</td>\n      <td>11.0</td>\n      <td>182.0</td>\n      <td>68.0</td>\n      <td>61.0</td>\n      <td>53.0</td>\n      <td>Speed Skating</td>\n      <td>121.0</td>\n      <td>42.0</td>\n      <td>40.0</td>\n      <td>39.0</td>\n    </tr>\n  </tbody>\n</table>\n<p>5 rows × 48 columns</p>\n</div>"
     },
     "metadata": {},
     "output_type": "execute_result",
     "execution_count": 5
    }
   ],
   "source": [
    "import pandas as pd\n",
    "\n",
    "\n",
    "print(\"Hello Folks!\")\n",
    "country = pd.read_csv(\"olympics.csv\")\n",
    "athletes = pd.read_csv(\"athlete_events.csv\")\n",
    "\n",
    "country.head()\n",
    "athletes.head()\n",
    "athletes_country = pd.merge(athletes, country ,  how='left', left_on='NOC', right_on = 'code')\n",
    "\n",
    "athletes_country.head()"
   ]
  },
  {
   "cell_type": "code",
   "execution_count": null,
   "outputs": [],
   "source": [
    "\n"
   ],
   "metadata": {
    "collapsed": false,
    "pycharm": {
     "name": "#%%\n"
    }
   }
  }
 ],
 "metadata": {
  "kernelspec": {
   "name": "python3",
   "language": "python",
   "display_name": "Python 3"
  },
  "language_info": {
   "codemirror_mode": {
    "name": "ipython",
    "version": 2
   },
   "file_extension": ".py",
   "mimetype": "text/x-python",
   "name": "python",
   "nbconvert_exporter": "python",
   "pygments_lexer": "ipython2",
   "version": "2.7.6"
  },
  "pycharm": {
   "stem_cell": {
    "cell_type": "raw",
    "source": [],
    "metadata": {
     "collapsed": false
    }
   }
  }
 },
 "nbformat": 4,
 "nbformat_minor": 0
}