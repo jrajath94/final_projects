{
 "cells": [
  {
   "cell_type": "code",
   "execution_count": 5,
   "metadata": {
    "collapsed": true,
    "pycharm": {
     "is_executing": false
    }
   },
   "outputs": [
    {
     "name": "stdout",
     "text": [
      "Hello Folks!\n"
     ],
     "output_type": "stream"
    },
    {
     "data": {
      "text/plain": "   ID                      Name Sex   Age  Height  Weight            Team  \\\n0   1                 A Dijiang   M  24.0   180.0    80.0           China   \n1   2                  A Lamusi   M  23.0   170.0    60.0           China   \n2   3       Gunnar Nielsen Aaby   M  24.0     NaN     NaN         Denmark   \n3   4      Edgar Lindenau Aabye   M  34.0     NaN     NaN  Denmark/Sweden   \n4   5  Christine Jacoba Aaftink   F  21.0   185.0    82.0     Netherlands   \n\n   NOC        Games  Year  ... l20_apps l20_medal l20_gold l20_silver  \\\n0  CHN  1992 Summer  1992  ...     11.0     438.0    185.0      128.0   \n1  CHN  2012 Summer  2012  ...     11.0     438.0    185.0      128.0   \n2  DEN  1920 Summer  1920  ...     11.0      46.0     10.0       17.0   \n3  DEN  1900 Summer  1900  ...     11.0      46.0     10.0       17.0   \n4  NED  1988 Winter  1988  ...     11.0     182.0     68.0       61.0   \n\n  l20_bronze mostsuccessfulsport  medals golds silvers  bronzes  \n0      125.0        Table Tennis    53.0  28.0    17.0      8.0  \n1      125.0        Table Tennis    53.0  28.0    17.0      8.0  \n2       19.0             Sailing    30.0  12.0     9.0      9.0  \n3       19.0             Sailing    30.0  12.0     9.0      9.0  \n4       53.0       Speed Skating   121.0  42.0    40.0     39.0  \n\n[5 rows x 48 columns]",
      "text/html": "<div>\n<style scoped>\n    .dataframe tbody tr th:only-of-type {\n        vertical-align: middle;\n    }\n\n    .dataframe tbody tr th {\n        vertical-align: top;\n    }\n\n    .dataframe thead th {\n        text-align: right;\n    }\n</style>\n<table border=\"1\" class=\"dataframe\">\n  <thead>\n    <tr style=\"text-align: right;\">\n      <th></th>\n      <th>ID</th>\n      <th>Name</th>\n      <th>Sex</th>\n      <th>Age</th>\n      <th>Height</th>\n      <th>Weight</th>\n      <th>Team</th>\n      <th>NOC</th>\n      <th>Games</th>\n      <th>Year</th>\n      <th>...</th>\n      <th>l20_apps</th>\n      <th>l20_medal</th>\n      <th>l20_gold</th>\n      <th>l20_silver</th>\n      <th>l20_bronze</th>\n      <th>mostsuccessfulsport</th>\n      <th>medals</th>\n      <th>golds</th>\n      <th>silvers</th>\n      <th>bronzes</th>\n    </tr>\n  </thead>\n  <tbody>\n    <tr>\n      <th>0</th>\n      <td>1</td>\n      <td>A Dijiang</td>\n      <td>M</td>\n      <td>24.0</td>\n      <td>180.0</td>\n      <td>80.0</td>\n      <td>China</td>\n      <td>CHN</td>\n      <td>1992 Summer</td>\n      <td>1992</td>\n      <td>...</td>\n      <td>11.0</td>\n      <td>438.0</td>\n      <td>185.0</td>\n      <td>128.0</td>\n      <td>125.0</td>\n      <td>Table Tennis</td>\n      <td>53.0</td>\n      <td>28.0</td>\n      <td>17.0</td>\n      <td>8.0</td>\n    </tr>\n    <tr>\n      <th>1</th>\n      <td>2</td>\n      <td>A Lamusi</td>\n      <td>M</td>\n      <td>23.0</td>\n      <td>170.0</td>\n      <td>60.0</td>\n      <td>China</td>\n      <td>CHN</td>\n      <td>2012 Summer</td>\n      <td>2012</td>\n      <td>...</td>\n      <td>11.0</td>\n      <td>438.0</td>\n      <td>185.0</td>\n      <td>128.0</td>\n      <td>125.0</td>\n      <td>Table Tennis</td>\n      <td>53.0</td>\n      <td>28.0</td>\n      <td>17.0</td>\n      <td>8.0</td>\n    </tr>\n    <tr>\n      <th>2</th>\n      <td>3</td>\n      <td>Gunnar Nielsen Aaby</td>\n      <td>M</td>\n      <td>24.0</td>\n      <td>NaN</td>\n      <td>NaN</td>\n      <td>Denmark</td>\n      <td>DEN</td>\n      <td>1920 Summer</td>\n      <td>1920</td>\n      <td>...</td>\n      <td>11.0</td>\n      <td>46.0</td>\n      <td>10.0</td>\n      <td>17.0</td>\n      <td>19.0</td>\n      <td>Sailing</td>\n      <td>30.0</td>\n      <td>12.0</td>\n      <td>9.0</td>\n      <td>9.0</td>\n    </tr>\n    <tr>\n      <th>3</th>\n      <td>4</td>\n      <td>Edgar Lindenau Aabye</td>\n      <td>M</td>\n      <td>34.0</td>\n      <td>NaN</td>\n      <td>NaN</td>\n      <td>Denmark/Sweden</td>\n      <td>DEN</td>\n      <td>1900 Summer</td>\n      <td>1900</td>\n      <td>...</td>\n      <td>11.0</td>\n      <td>46.0</td>\n      <td>10.0</td>\n      <td>17.0</td>\n      <td>19.0</td>\n      <td>Sailing</td>\n      <td>30.0</td>\n      <td>12.0</td>\n      <td>9.0</td>\n      <td>9.0</td>\n    </tr>\n    <tr>\n      <th>4</th>\n      <td>5</td>\n      <td>Christine Jacoba Aaftink</td>\n      <td>F</td>\n      <td>21.0</td>\n      <td>185.0</td>\n      <td>82.0</td>\n      <td>Netherlands</td>\n      <td>NED</td>\n      <td>1988 Winter</td>\n      <td>1988</td>\n      <td>...</td>\n      <td>11.0</td>\n      <td>182.0</td>\n      <td>68.0</td>\n      <td>61.0</td>\n      <td>53.0</td>\n      <td>Speed Skating</td>\n      <td>121.0</td>\n      <td>42.0</td>\n      <td>40.0</td>\n      <td>39.0</td>\n    </tr>\n  </tbody>\n</table>\n<p>5 rows × 48 columns</p>\n</div>"
     },
     "metadata": {},
     "output_type": "execute_result",
     "execution_count": 5
    }
   ],
   "source": [
    "import pandas as pd\n",
    "\n",
    "\n",
    "print(\"Hello Folks!\")\n",
    "country = pd.read_csv(\"olympics.csv\") # Country Details \n",
    "athletes = pd.read_csv(\"athlete_events.csv\") # Olympics Dataset\n",
    "\n",
    "country.head()\n",
    "athletes.head()\n",
    "athletes_country = pd.merge(athletes, country ,  how='left', left_on='NOC', right_on = 'code')\n",
    "\n",
    "athletes_country.head()"
   ]
  },
  {
   "cell_type": "code",
   "execution_count": 10,
   "outputs": [
    {
     "data": {
      "text/plain": "   ID                      Name Sex   Age  Height  Weight            Team  \\\n0   1                 A Dijiang   M  24.0   180.0    80.0           China   \n1   2                  A Lamusi   M  23.0   170.0    60.0           China   \n2   3       Gunnar Nielsen Aaby   M  24.0     NaN     NaN         Denmark   \n3   4      Edgar Lindenau Aabye   M  34.0     NaN     NaN  Denmark/Sweden   \n4   5  Christine Jacoba Aaftink   F  21.0   185.0    82.0     Netherlands   \n\n   NOC        Games  Year  Season       City          Sport  \\\n0  CHN  1992 Summer  1992  Summer  Barcelona     Basketball   \n1  CHN  2012 Summer  2012  Summer     London           Judo   \n2  DEN  1920 Summer  1920  Summer  Antwerpen       Football   \n3  DEN  1900 Summer  1900  Summer      Paris     Tug-Of-War   \n4  NED  1988 Winter  1988  Winter    Calgary  Speed Skating   \n\n                              Event Medal  \n0       Basketball Men's Basketball   NaN  \n1      Judo Men's Extra-Lightweight   NaN  \n2           Football Men's Football   NaN  \n3       Tug-Of-War Men's Tug-Of-War  Gold  \n4  Speed Skating Women's 500 metres   NaN  ",
      "text/html": "<div>\n<style scoped>\n    .dataframe tbody tr th:only-of-type {\n        vertical-align: middle;\n    }\n\n    .dataframe tbody tr th {\n        vertical-align: top;\n    }\n\n    .dataframe thead th {\n        text-align: right;\n    }\n</style>\n<table border=\"1\" class=\"dataframe\">\n  <thead>\n    <tr style=\"text-align: right;\">\n      <th></th>\n      <th>ID</th>\n      <th>Name</th>\n      <th>Sex</th>\n      <th>Age</th>\n      <th>Height</th>\n      <th>Weight</th>\n      <th>Team</th>\n      <th>NOC</th>\n      <th>Games</th>\n      <th>Year</th>\n      <th>Season</th>\n      <th>City</th>\n      <th>Sport</th>\n      <th>Event</th>\n      <th>Medal</th>\n    </tr>\n  </thead>\n  <tbody>\n    <tr>\n      <th>0</th>\n      <td>1</td>\n      <td>A Dijiang</td>\n      <td>M</td>\n      <td>24.0</td>\n      <td>180.0</td>\n      <td>80.0</td>\n      <td>China</td>\n      <td>CHN</td>\n      <td>1992 Summer</td>\n      <td>1992</td>\n      <td>Summer</td>\n      <td>Barcelona</td>\n      <td>Basketball</td>\n      <td>Basketball Men's Basketball</td>\n      <td>NaN</td>\n    </tr>\n    <tr>\n      <th>1</th>\n      <td>2</td>\n      <td>A Lamusi</td>\n      <td>M</td>\n      <td>23.0</td>\n      <td>170.0</td>\n      <td>60.0</td>\n      <td>China</td>\n      <td>CHN</td>\n      <td>2012 Summer</td>\n      <td>2012</td>\n      <td>Summer</td>\n      <td>London</td>\n      <td>Judo</td>\n      <td>Judo Men's Extra-Lightweight</td>\n      <td>NaN</td>\n    </tr>\n    <tr>\n      <th>2</th>\n      <td>3</td>\n      <td>Gunnar Nielsen Aaby</td>\n      <td>M</td>\n      <td>24.0</td>\n      <td>NaN</td>\n      <td>NaN</td>\n      <td>Denmark</td>\n      <td>DEN</td>\n      <td>1920 Summer</td>\n      <td>1920</td>\n      <td>Summer</td>\n      <td>Antwerpen</td>\n      <td>Football</td>\n      <td>Football Men's Football</td>\n      <td>NaN</td>\n    </tr>\n    <tr>\n      <th>3</th>\n      <td>4</td>\n      <td>Edgar Lindenau Aabye</td>\n      <td>M</td>\n      <td>34.0</td>\n      <td>NaN</td>\n      <td>NaN</td>\n      <td>Denmark/Sweden</td>\n      <td>DEN</td>\n      <td>1900 Summer</td>\n      <td>1900</td>\n      <td>Summer</td>\n      <td>Paris</td>\n      <td>Tug-Of-War</td>\n      <td>Tug-Of-War Men's Tug-Of-War</td>\n      <td>Gold</td>\n    </tr>\n    <tr>\n      <th>4</th>\n      <td>5</td>\n      <td>Christine Jacoba Aaftink</td>\n      <td>F</td>\n      <td>21.0</td>\n      <td>185.0</td>\n      <td>82.0</td>\n      <td>Netherlands</td>\n      <td>NED</td>\n      <td>1988 Winter</td>\n      <td>1988</td>\n      <td>Winter</td>\n      <td>Calgary</td>\n      <td>Speed Skating</td>\n      <td>Speed Skating Women's 500 metres</td>\n      <td>NaN</td>\n    </tr>\n  </tbody>\n</table>\n</div>"
     },
     "metadata": {},
     "output_type": "execute_result",
     "execution_count": 10
    }
   ],
   "source": [
    "#athletes_country.groupby(['Team'],axis=1)\n",
    "\n",
    "athletes.head()"
   ],
   "metadata": {
    "collapsed": false,
    "pycharm": {
     "name": "#%%\n",
     "is_executing": false
    }
   }
  },
  {
   "cell_type": "code",
   "execution_count": 23,
   "outputs": [
    {
     "data": {
      "text/plain": "Team                          Year  Event                                          Medal   Name                                                \nA North American Team         1900  Polo Men's Polo                                Bronze  Jos Eustaquio Luis Francisco Escandn y Barrn            1\n                                                                                           Jos Manuel Mara del Corazn de Jess Escandn y Barrn      1\n                                                                                           Jos Pablo Eustaquio Manuel Francisco Escandn y Barrn    1\n                                                                                           William Hayden Wright                                   1\nAfghanistan                   2008  Taekwondo Men's Flyweight                      Bronze  Rohullah Nikpai                                         1\n                              2012  Taekwondo Men's Featherweight                  Bronze  Rohullah Nikpai                                         1\nAlgeria                       1984  Boxing Men's Light-Heavyweight                 Bronze  Mustapha Moussa                                         1\n                                    Boxing Men's Middleweight                      Bronze  Mohamed Zaoui                                           1\n                              1992  Athletics Women's 1,500 metres                 Gold    Hassiba Boulmerka                                       1\n                                    Boxing Men's Featherweight                     Bronze  Hocine Soltani                                          1\n                              1996  Athletics Men's 1,500 metres                   Gold    Noureddine Morceli                                      1\n                                    Boxing Men's Lightweight                       Gold    Hocine Soltani                                          1\n                                    Boxing Men's Middleweight                      Bronze  Mohamed Bahari                                          1\n                              2000  Athletics Men's 5,000 metres                   Silver  Ali Sadi-Sief                                           1\n                                    Athletics Men's 800 metres                     Bronze  Assa Djabir Sad-Guerni                                  1\n                                    Athletics Men's High Jump                      Bronze  Abderrahmane Hammad Zaheer                              1\n                                    Athletics Women's 1,500 metres                 Gold    Nouria Mrah-Benida                                      1\n                                    Boxing Men's Light-Welterweight                Bronze  Mohamed Allalou                                         1\n                              2008  Judo Men's Middleweight                        Silver  Amar Benikhlef                                          1\n                                    Judo Women's Half-Lightweight                  Bronze  Soraya Haddad                                           1\n                              2012  Athletics Men's 1,500 metres                   Gold    Taoufik Makhloufi                                       1\n                              2016  Athletics Men's 1,500 metres                   Silver  Taoufik Makhloufi                                       1\n                                    Athletics Men's 800 metres                     Silver  Taoufik Makhloufi                                       1\nAli-Baba II                   1948  Sailing Mixed 6 metres                         Bronze  Gsta Antenor Saln                                       1\n                                                                                           Karl-Robert Ameln                                       1\n                                                                                           Martin Leonard Hindorff                                 1\n                                                                                           Tore Anton Holm                                         1\n                                                                                           Torsten Hjalmar Lord                                    1\nAmateur Athletic Association  1900  Athletics Men's 5,000 metres, Team             Gold    Alfred Ernest Tysoe                                     1\n                                                                                           Charles Bennett                                         1\n                                                                                                                                                  ..\nYugoslavia                    1988  Water Polo Men's Water Polo                    Gold    Tomislav Pakvalin                                       1\n                                                                                           Veselin uho                                             1\n                                    Wrestling Men's Flyweight, Freestyle           Silver  aban Trstena                                            1\nZambia                        1984  Boxing Men's Light-Flyweight                   Bronze  Keith Mwila                                             1\n                              1996  Athletics Men's 400 metres Hurdles             Silver  Samuel Matete                                           1\nZimbabwe                      1980  Hockey Women's Hockey                          Gold    Alexandra \"Sandy\" Chick                                 1\n                                                                                           Ann-Mary Gwynne Grant (Fletcher-)                       1\n                                                                                           Anthea Dorine Stewart (Allin-)                          1\n                                                                                           Brenda Joan Phillips                                    1\n                                                                                           Christine Seraphine \"Chris\" Prinsloo                    1\n                                                                                           Elizabeth \"Liz\" Chase                                   1\n                                                                                           Gillian \"Gill\" Cowley                                   1\n                                                                                           Helen Volk                                              1\n                                                                                           Linda Margaret Watson                                   1\n                                                                                           Maureen Jean George                                     1\n                                                                                           Patricia Jean \"Pat\" McKillop (Fraser-, -Williams)       1\n                                                                                           Patricia Joan \"Trish\" Davies                            1\n                                                                                           Sarah English                                           1\n                                                                                           Sonia Robertson (Chick-)                                1\n                                                                                           Susan \"Sue\" Huggett                                     1\n                              2004  Swimming Women's 100 metres Backstroke         Silver  Kirsty Leigh Coventry (-Seward)                         1\n                                    Swimming Women's 200 metres Backstroke         Gold    Kirsty Leigh Coventry (-Seward)                         1\n                                    Swimming Women's 200 metres Individual Medley  Bronze  Kirsty Leigh Coventry (-Seward)                         1\n                              2008  Swimming Women's 100 metres Backstroke         Silver  Kirsty Leigh Coventry (-Seward)                         1\n                                    Swimming Women's 200 metres Backstroke         Gold    Kirsty Leigh Coventry (-Seward)                         1\n                                    Swimming Women's 200 metres Individual Medley  Silver  Kirsty Leigh Coventry (-Seward)                         1\n                                    Swimming Women's 400 metres Individual Medley  Silver  Kirsty Leigh Coventry (-Seward)                         1\nZut                           1908  Sailing Mixed 6 metres                         Silver  Henri Weewauters                                        1\n                                                                                           Lon Florent Marie Huybrechts                            1\n                                                                                           Pierre Louis Joseph Huybrechts                          1\nName: Name, Length: 39768, dtype: int64"
     },
     "metadata": {},
     "output_type": "execute_result",
     "execution_count": 23
    }
   ],
   "source": [
    "athletes_country.groupby(['Team','Year','Event','Medal'])['Name'].value_counts()\n",
    "#print(x)\n",
    "\n",
    "#athletes_country.describe()"
   ],
   "metadata": {
    "collapsed": false,
    "pycharm": {
     "name": "#%%\n",
     "is_executing": false
    }
   }
  },
  {
   "cell_type": "code",
   "execution_count": 1,
   "outputs": [
    {
     "traceback": [
      "\u001b[0;31m---------------------------------------------------------------------------\u001b[0m",
      "\u001b[0;31mNameError\u001b[0m                                 Traceback (most recent call last)",
      "\u001b[0;32m<ipython-input-1-6773a891a636>\u001b[0m in \u001b[0;36m<module>\u001b[0;34m\u001b[0m\n\u001b[0;32m----> 1\u001b[0;31m \u001b[0mathletes_country\u001b[0m\u001b[0;34m.\u001b[0m\u001b[0mgroupby\u001b[0m\u001b[0;34m(\u001b[0m\u001b[0;34m[\u001b[0m\u001b[0;34m'Team'\u001b[0m\u001b[0;34m,\u001b[0m\u001b[0;34m'Year'\u001b[0m\u001b[0;34m,\u001b[0m\u001b[0;34m'Event'\u001b[0m\u001b[0;34m,\u001b[0m\u001b[0;34m'Medal'\u001b[0m\u001b[0;34m,\u001b[0m\u001b[0;34m'Age'\u001b[0m\u001b[0;34m]\u001b[0m\u001b[0;34m)\u001b[0m\u001b[0;34m[\u001b[0m\u001b[0;34m'Name'\u001b[0m\u001b[0;34m]\u001b[0m\u001b[0;34m.\u001b[0m\u001b[0mvalue_counts\u001b[0m\u001b[0;34m(\u001b[0m\u001b[0;34m)\u001b[0m\u001b[0;34m\u001b[0m\u001b[0;34m\u001b[0m\u001b[0m\n\u001b[0m\u001b[1;32m      2\u001b[0m \u001b[0;31m#print(x)\u001b[0m\u001b[0;34m\u001b[0m\u001b[0;34m\u001b[0m\u001b[0;34m\u001b[0m\u001b[0m\n",
      "\u001b[0;31mNameError\u001b[0m: name 'athletes_country' is not defined"
     ],
     "ename": "NameError",
     "evalue": "name 'athletes_country' is not defined",
     "output_type": "error"
    }
   ],
   "source": [
    "\n",
    "athletes_country.groupby(['Team','Year','Event','Medal','Age'])['Name'].value_counts()\n",
    "#print(x)"
   ],
   "metadata": {
    "collapsed": false,
    "pycharm": {
     "name": "#%%\n",
     "is_executing": false
    }
   }
  }
 ],
 "metadata": {
  "kernelspec": {
   "name": "python3",
   "language": "python",
   "display_name": "Python 3"
  },
  "language_info": {
   "codemirror_mode": {
    "name": "ipython",
    "version": 2
   },
   "file_extension": ".py",
   "mimetype": "text/x-python",
   "name": "python",
   "nbconvert_exporter": "python",
   "pygments_lexer": "ipython2",
   "version": "2.7.6"
  },
  "pycharm": {
   "stem_cell": {
    "cell_type": "raw",
    "source": [],
    "metadata": {
     "collapsed": false
    }
   }
  }
 },
 "nbformat": 4,
 "nbformat_minor": 0
}